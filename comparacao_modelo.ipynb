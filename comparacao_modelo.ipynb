{
  "cells": [
    {
      "cell_type": "code",
      "execution_count": 1,
      "metadata": {
        "colab": {
          "base_uri": "https://localhost:8080/"
        },
        "id": "cVLnDDmUv-Jv",
        "outputId": "6378d7f8-c65b-43dc-973b-af7f05fb6000"
      },
      "outputs": [
        {
          "output_type": "stream",
          "name": "stdout",
          "text": [
            "Looking in indexes: https://pypi.org/simple, https://us-python.pkg.dev/colab-wheels/public/simple/\n",
            "Requirement already satisfied: pydotplus in /usr/local/lib/python3.8/dist-packages (2.0.2)\n",
            "Requirement already satisfied: pyparsing>=2.0.1 in /usr/local/lib/python3.8/dist-packages (from pydotplus) (3.0.9)\n",
            "Looking in indexes: https://pypi.org/simple, https://us-python.pkg.dev/colab-wheels/public/simple/\n",
            "Collecting dtreeviz\n",
            "  Downloading dtreeviz-1.4.1-py3-none-any.whl (72 kB)\n",
            "\u001b[K     |████████████████████████████████| 72 kB 227 kB/s \n",
            "\u001b[?25hRequirement already satisfied: graphviz>=0.9 in /usr/local/lib/python3.8/dist-packages (from dtreeviz) (0.10.1)\n",
            "Requirement already satisfied: pytest in /usr/local/lib/python3.8/dist-packages (from dtreeviz) (3.6.4)\n",
            "Requirement already satisfied: pandas in /usr/local/lib/python3.8/dist-packages (from dtreeviz) (1.3.5)\n",
            "Requirement already satisfied: numpy in /usr/local/lib/python3.8/dist-packages (from dtreeviz) (1.21.6)\n",
            "Requirement already satisfied: scikit-learn in /usr/local/lib/python3.8/dist-packages (from dtreeviz) (1.0.2)\n",
            "Collecting colour\n",
            "  Downloading colour-0.1.5-py2.py3-none-any.whl (23 kB)\n",
            "Requirement already satisfied: matplotlib in /usr/local/lib/python3.8/dist-packages (from dtreeviz) (3.2.2)\n",
            "Requirement already satisfied: pyparsing!=2.0.4,!=2.1.2,!=2.1.6,>=2.0.1 in /usr/local/lib/python3.8/dist-packages (from matplotlib->dtreeviz) (3.0.9)\n",
            "Requirement already satisfied: kiwisolver>=1.0.1 in /usr/local/lib/python3.8/dist-packages (from matplotlib->dtreeviz) (1.4.4)\n",
            "Requirement already satisfied: python-dateutil>=2.1 in /usr/local/lib/python3.8/dist-packages (from matplotlib->dtreeviz) (2.8.2)\n",
            "Requirement already satisfied: cycler>=0.10 in /usr/local/lib/python3.8/dist-packages (from matplotlib->dtreeviz) (0.11.0)\n",
            "Requirement already satisfied: six>=1.5 in /usr/local/lib/python3.8/dist-packages (from python-dateutil>=2.1->matplotlib->dtreeviz) (1.15.0)\n",
            "Requirement already satisfied: pytz>=2017.3 in /usr/local/lib/python3.8/dist-packages (from pandas->dtreeviz) (2022.6)\n",
            "Requirement already satisfied: py>=1.5.0 in /usr/local/lib/python3.8/dist-packages (from pytest->dtreeviz) (1.11.0)\n",
            "Requirement already satisfied: more-itertools>=4.0.0 in /usr/local/lib/python3.8/dist-packages (from pytest->dtreeviz) (9.0.0)\n",
            "Requirement already satisfied: pluggy<0.8,>=0.5 in /usr/local/lib/python3.8/dist-packages (from pytest->dtreeviz) (0.7.1)\n",
            "Requirement already satisfied: setuptools in /usr/local/lib/python3.8/dist-packages (from pytest->dtreeviz) (57.4.0)\n",
            "Requirement already satisfied: atomicwrites>=1.0 in /usr/local/lib/python3.8/dist-packages (from pytest->dtreeviz) (1.4.1)\n",
            "Requirement already satisfied: attrs>=17.4.0 in /usr/local/lib/python3.8/dist-packages (from pytest->dtreeviz) (22.1.0)\n",
            "Requirement already satisfied: joblib>=0.11 in /usr/local/lib/python3.8/dist-packages (from scikit-learn->dtreeviz) (1.2.0)\n",
            "Requirement already satisfied: scipy>=1.1.0 in /usr/local/lib/python3.8/dist-packages (from scikit-learn->dtreeviz) (1.7.3)\n",
            "Requirement already satisfied: threadpoolctl>=2.0.0 in /usr/local/lib/python3.8/dist-packages (from scikit-learn->dtreeviz) (3.1.0)\n",
            "Installing collected packages: colour, dtreeviz\n",
            "Successfully installed colour-0.1.5 dtreeviz-1.4.1\n"
          ]
        }
      ],
      "source": [
        "!pip install pydotplus\n",
        "!pip install dtreeviz"
      ]
    },
    {
      "cell_type": "code",
      "execution_count": 2,
      "metadata": {
        "id": "yX1hoAwaCTDo"
      },
      "outputs": [],
      "source": [
        "import numpy as np\n",
        "import pandas as pd\n",
        "import matplotlib.pyplot as plt\n",
        "import seaborn as sns\n",
        "from sklearn.model_selection import train_test_split\n",
        "from sklearn import preprocessing\n",
        "from sklearn.naive_bayes import GaussianNB\n",
        "from sklearn.metrics import confusion_matrix, classification_report\n",
        "from sklearn import preprocessing\n",
        "from sklearn.ensemble import RandomForestRegressor as rf\n",
        "from sklearn.feature_selection import RFE\n"
      ]
    },
    {
      "cell_type": "code",
      "execution_count": 3,
      "metadata": {
        "id": "HF80bpXCCi4z"
      },
      "outputs": [],
      "source": [
        "from sklearn import datasets, tree\n",
        "from sklearn.model_selection import train_test_split\n",
        "from sklearn.tree import DecisionTreeClassifier\n",
        "from sklearn.metrics import accuracy_score, classification_report, confusion_matrix\n",
        "from sklearn.feature_extraction import DictVectorizer\n",
        "from sklearn.preprocessing import LabelEncoder\n",
        "from sklearn.datasets import load_iris\n",
        "from sklearn.model_selection import train_test_split\n",
        "from sklearn.ensemble import RandomForestClassifier\n",
        "from sklearn.model_selection import GridSearchCV\n",
        "from sklearn.model_selection import TimeSeriesSplit\n",
        "from matplotlib import pyplot\n",
        "from sklearn.preprocessing import StandardScaler\n",
        "from sklearn.neural_network import MLPRegressor\n",
        "from sklearn import metrics\n",
        "import pandas as pd\n",
        "import seaborn as sns\n"
      ]
    },
    {
      "cell_type": "code",
      "execution_count": 4,
      "metadata": {
        "colab": {
          "base_uri": "https://localhost:8080/",
          "height": 72
        },
        "id": "RGO9uZPlwC9P",
        "outputId": "337f438a-50f3-46df-aeb4-f612f54ec074"
      },
      "outputs": [
        {
          "output_type": "display_data",
          "data": {
            "text/plain": [
              "<IPython.core.display.HTML object>"
            ],
            "text/html": [
              "\n",
              "     <input type=\"file\" id=\"files-ddb7260a-c490-4f89-a64c-5b7f8250fcca\" name=\"files[]\" multiple disabled\n",
              "        style=\"border:none\" />\n",
              "     <output id=\"result-ddb7260a-c490-4f89-a64c-5b7f8250fcca\">\n",
              "      Upload widget is only available when the cell has been executed in the\n",
              "      current browser session. Please rerun this cell to enable.\n",
              "      </output>\n",
              "      <script>// Copyright 2017 Google LLC\n",
              "//\n",
              "// Licensed under the Apache License, Version 2.0 (the \"License\");\n",
              "// you may not use this file except in compliance with the License.\n",
              "// You may obtain a copy of the License at\n",
              "//\n",
              "//      http://www.apache.org/licenses/LICENSE-2.0\n",
              "//\n",
              "// Unless required by applicable law or agreed to in writing, software\n",
              "// distributed under the License is distributed on an \"AS IS\" BASIS,\n",
              "// WITHOUT WARRANTIES OR CONDITIONS OF ANY KIND, either express or implied.\n",
              "// See the License for the specific language governing permissions and\n",
              "// limitations under the License.\n",
              "\n",
              "/**\n",
              " * @fileoverview Helpers for google.colab Python module.\n",
              " */\n",
              "(function(scope) {\n",
              "function span(text, styleAttributes = {}) {\n",
              "  const element = document.createElement('span');\n",
              "  element.textContent = text;\n",
              "  for (const key of Object.keys(styleAttributes)) {\n",
              "    element.style[key] = styleAttributes[key];\n",
              "  }\n",
              "  return element;\n",
              "}\n",
              "\n",
              "// Max number of bytes which will be uploaded at a time.\n",
              "const MAX_PAYLOAD_SIZE = 100 * 1024;\n",
              "\n",
              "function _uploadFiles(inputId, outputId) {\n",
              "  const steps = uploadFilesStep(inputId, outputId);\n",
              "  const outputElement = document.getElementById(outputId);\n",
              "  // Cache steps on the outputElement to make it available for the next call\n",
              "  // to uploadFilesContinue from Python.\n",
              "  outputElement.steps = steps;\n",
              "\n",
              "  return _uploadFilesContinue(outputId);\n",
              "}\n",
              "\n",
              "// This is roughly an async generator (not supported in the browser yet),\n",
              "// where there are multiple asynchronous steps and the Python side is going\n",
              "// to poll for completion of each step.\n",
              "// This uses a Promise to block the python side on completion of each step,\n",
              "// then passes the result of the previous step as the input to the next step.\n",
              "function _uploadFilesContinue(outputId) {\n",
              "  const outputElement = document.getElementById(outputId);\n",
              "  const steps = outputElement.steps;\n",
              "\n",
              "  const next = steps.next(outputElement.lastPromiseValue);\n",
              "  return Promise.resolve(next.value.promise).then((value) => {\n",
              "    // Cache the last promise value to make it available to the next\n",
              "    // step of the generator.\n",
              "    outputElement.lastPromiseValue = value;\n",
              "    return next.value.response;\n",
              "  });\n",
              "}\n",
              "\n",
              "/**\n",
              " * Generator function which is called between each async step of the upload\n",
              " * process.\n",
              " * @param {string} inputId Element ID of the input file picker element.\n",
              " * @param {string} outputId Element ID of the output display.\n",
              " * @return {!Iterable<!Object>} Iterable of next steps.\n",
              " */\n",
              "function* uploadFilesStep(inputId, outputId) {\n",
              "  const inputElement = document.getElementById(inputId);\n",
              "  inputElement.disabled = false;\n",
              "\n",
              "  const outputElement = document.getElementById(outputId);\n",
              "  outputElement.innerHTML = '';\n",
              "\n",
              "  const pickedPromise = new Promise((resolve) => {\n",
              "    inputElement.addEventListener('change', (e) => {\n",
              "      resolve(e.target.files);\n",
              "    });\n",
              "  });\n",
              "\n",
              "  const cancel = document.createElement('button');\n",
              "  inputElement.parentElement.appendChild(cancel);\n",
              "  cancel.textContent = 'Cancel upload';\n",
              "  const cancelPromise = new Promise((resolve) => {\n",
              "    cancel.onclick = () => {\n",
              "      resolve(null);\n",
              "    };\n",
              "  });\n",
              "\n",
              "  // Wait for the user to pick the files.\n",
              "  const files = yield {\n",
              "    promise: Promise.race([pickedPromise, cancelPromise]),\n",
              "    response: {\n",
              "      action: 'starting',\n",
              "    }\n",
              "  };\n",
              "\n",
              "  cancel.remove();\n",
              "\n",
              "  // Disable the input element since further picks are not allowed.\n",
              "  inputElement.disabled = true;\n",
              "\n",
              "  if (!files) {\n",
              "    return {\n",
              "      response: {\n",
              "        action: 'complete',\n",
              "      }\n",
              "    };\n",
              "  }\n",
              "\n",
              "  for (const file of files) {\n",
              "    const li = document.createElement('li');\n",
              "    li.append(span(file.name, {fontWeight: 'bold'}));\n",
              "    li.append(span(\n",
              "        `(${file.type || 'n/a'}) - ${file.size} bytes, ` +\n",
              "        `last modified: ${\n",
              "            file.lastModifiedDate ? file.lastModifiedDate.toLocaleDateString() :\n",
              "                                    'n/a'} - `));\n",
              "    const percent = span('0% done');\n",
              "    li.appendChild(percent);\n",
              "\n",
              "    outputElement.appendChild(li);\n",
              "\n",
              "    const fileDataPromise = new Promise((resolve) => {\n",
              "      const reader = new FileReader();\n",
              "      reader.onload = (e) => {\n",
              "        resolve(e.target.result);\n",
              "      };\n",
              "      reader.readAsArrayBuffer(file);\n",
              "    });\n",
              "    // Wait for the data to be ready.\n",
              "    let fileData = yield {\n",
              "      promise: fileDataPromise,\n",
              "      response: {\n",
              "        action: 'continue',\n",
              "      }\n",
              "    };\n",
              "\n",
              "    // Use a chunked sending to avoid message size limits. See b/62115660.\n",
              "    let position = 0;\n",
              "    do {\n",
              "      const length = Math.min(fileData.byteLength - position, MAX_PAYLOAD_SIZE);\n",
              "      const chunk = new Uint8Array(fileData, position, length);\n",
              "      position += length;\n",
              "\n",
              "      const base64 = btoa(String.fromCharCode.apply(null, chunk));\n",
              "      yield {\n",
              "        response: {\n",
              "          action: 'append',\n",
              "          file: file.name,\n",
              "          data: base64,\n",
              "        },\n",
              "      };\n",
              "\n",
              "      let percentDone = fileData.byteLength === 0 ?\n",
              "          100 :\n",
              "          Math.round((position / fileData.byteLength) * 100);\n",
              "      percent.textContent = `${percentDone}% done`;\n",
              "\n",
              "    } while (position < fileData.byteLength);\n",
              "  }\n",
              "\n",
              "  // All done.\n",
              "  yield {\n",
              "    response: {\n",
              "      action: 'complete',\n",
              "    }\n",
              "  };\n",
              "}\n",
              "\n",
              "scope.google = scope.google || {};\n",
              "scope.google.colab = scope.google.colab || {};\n",
              "scope.google.colab._files = {\n",
              "  _uploadFiles,\n",
              "  _uploadFilesContinue,\n",
              "};\n",
              "})(self);\n",
              "</script> "
            ]
          },
          "metadata": {}
        },
        {
          "output_type": "stream",
          "name": "stdout",
          "text": [
            "Saving bdpredicao.xlsx to bdpredicao.xlsx\n"
          ]
        }
      ],
      "source": [
        "from google.colab import files\n",
        "\n",
        "uploaded = files.upload()"
      ]
    },
    {
      "cell_type": "code",
      "execution_count": 5,
      "metadata": {
        "id": "eKdeT0OZwFJx",
        "colab": {
          "base_uri": "https://localhost:8080/",
          "height": 661
        },
        "outputId": "21394dcb-747e-4025-ed9a-7e7c5944c881"
      },
      "outputs": [
        {
          "output_type": "execute_result",
          "data": {
            "text/plain": [
              "       id_cooperado pf_ou_pj           especialidade competencia  \\\n",
              "0              1719       pf  Médico cirurgião geral  2021-01-01   \n",
              "1              1719       pf  Médico cirurgião geral  2021-02-01   \n",
              "2              1719       pf  Médico cirurgião geral  2021-03-01   \n",
              "3              1719       pf  Médico cirurgião geral  2021-04-01   \n",
              "4              1719       pf  Médico cirurgião geral  2021-05-01   \n",
              "...             ...      ...                     ...         ...   \n",
              "74479         24883       pf      Médico generalista  2022-02-01   \n",
              "74480         24883       pf      Médico generalista  2022-03-01   \n",
              "74481         24883       pf      Médico generalista  2022-04-01   \n",
              "74482         24883       pf      Médico generalista  2022-05-01   \n",
              "74483         24883       pf      Médico generalista  2022-06-01   \n",
              "\n",
              "       nacionalidade situacao_epoca_do_repasse       hospital estado_civil  \\\n",
              "0      Brasileiro(a)                LICENCIADO  P ATENDIMENTO     Solteiro   \n",
              "1      Brasileiro(a)                LICENCIADO  P ATENDIMENTO     Solteiro   \n",
              "2      Brasileiro(a)                LICENCIADO  P ATENDIMENTO     Solteiro   \n",
              "3      Brasileiro(a)                LICENCIADO  P ATENDIMENTO     Solteiro   \n",
              "4      Brasileiro(a)                LICENCIADO  P ATENDIMENTO     Solteiro   \n",
              "...              ...                       ...            ...          ...   \n",
              "74479  Brasileiro(a)                     ATIVO   CONSULTORIOS       Casado   \n",
              "74480  Brasileiro(a)                     ATIVO   CONSULTORIOS       Casado   \n",
              "74481  Brasileiro(a)                     ATIVO   CONSULTORIOS       Casado   \n",
              "74482  Brasileiro(a)                     ATIVO   CONSULTORIOS       Casado   \n",
              "74483  Brasileiro(a)                     ATIVO   CONSULTORIOS       Casado   \n",
              "\n",
              "      grau_instrucao  cooperado_origem_de_conversao  \\\n",
              "0           Superior                              0   \n",
              "1           Superior                              0   \n",
              "2           Superior                              0   \n",
              "3           Superior                              0   \n",
              "4           Superior                              0   \n",
              "...              ...                            ...   \n",
              "74479       Superior                              0   \n",
              "74480       Superior                              0   \n",
              "74481       Superior                              0   \n",
              "74482       Superior                              0   \n",
              "74483       Superior                              0   \n",
              "\n",
              "       cooperado_destino_de_conversao  participa_servico_especial  \\\n",
              "0                                   0                           0   \n",
              "1                                   0                           0   \n",
              "2                                   0                           0   \n",
              "3                                   0                           0   \n",
              "4                                   0                           0   \n",
              "...                               ...                         ...   \n",
              "74479                               0                           0   \n",
              "74480                               0                           0   \n",
              "74481                               0                           0   \n",
              "74482                               0                           0   \n",
              "74483                               0                           0   \n",
              "\n",
              "       valor_procedimento_a_repassar  valor_lancamento_eventual_a_repassar  \\\n",
              "0                                0.0                                   0.0   \n",
              "1                                0.0                                   0.0   \n",
              "2                                0.0                                   0.0   \n",
              "3                                0.0                                   0.0   \n",
              "4                                0.0                                   0.0   \n",
              "...                              ...                                   ...   \n",
              "74479                            0.0                                   0.0   \n",
              "74480                            0.0                                   0.0   \n",
              "74481                            0.0                                   0.0   \n",
              "74482                            0.0                                   0.0   \n",
              "74483                            0.0                                   0.0   \n",
              "\n",
              "       valor_predicao_liquido  \n",
              "0                         0.0  \n",
              "1                         0.0  \n",
              "2                         0.0  \n",
              "3                         0.0  \n",
              "4                         0.0  \n",
              "...                       ...  \n",
              "74479                     0.0  \n",
              "74480                     0.0  \n",
              "74481                     0.0  \n",
              "74482                     0.0  \n",
              "74483                     0.0  \n",
              "\n",
              "[74484 rows x 15 columns]"
            ],
            "text/html": [
              "\n",
              "  <div id=\"df-1eb3a27a-700c-42df-ab07-0bb9c7ca5950\">\n",
              "    <div class=\"colab-df-container\">\n",
              "      <div>\n",
              "<style scoped>\n",
              "    .dataframe tbody tr th:only-of-type {\n",
              "        vertical-align: middle;\n",
              "    }\n",
              "\n",
              "    .dataframe tbody tr th {\n",
              "        vertical-align: top;\n",
              "    }\n",
              "\n",
              "    .dataframe thead th {\n",
              "        text-align: right;\n",
              "    }\n",
              "</style>\n",
              "<table border=\"1\" class=\"dataframe\">\n",
              "  <thead>\n",
              "    <tr style=\"text-align: right;\">\n",
              "      <th></th>\n",
              "      <th>id_cooperado</th>\n",
              "      <th>pf_ou_pj</th>\n",
              "      <th>especialidade</th>\n",
              "      <th>competencia</th>\n",
              "      <th>nacionalidade</th>\n",
              "      <th>situacao_epoca_do_repasse</th>\n",
              "      <th>hospital</th>\n",
              "      <th>estado_civil</th>\n",
              "      <th>grau_instrucao</th>\n",
              "      <th>cooperado_origem_de_conversao</th>\n",
              "      <th>cooperado_destino_de_conversao</th>\n",
              "      <th>participa_servico_especial</th>\n",
              "      <th>valor_procedimento_a_repassar</th>\n",
              "      <th>valor_lancamento_eventual_a_repassar</th>\n",
              "      <th>valor_predicao_liquido</th>\n",
              "    </tr>\n",
              "  </thead>\n",
              "  <tbody>\n",
              "    <tr>\n",
              "      <th>0</th>\n",
              "      <td>1719</td>\n",
              "      <td>pf</td>\n",
              "      <td>Médico cirurgião geral</td>\n",
              "      <td>2021-01-01</td>\n",
              "      <td>Brasileiro(a)</td>\n",
              "      <td>LICENCIADO</td>\n",
              "      <td>P ATENDIMENTO</td>\n",
              "      <td>Solteiro</td>\n",
              "      <td>Superior</td>\n",
              "      <td>0</td>\n",
              "      <td>0</td>\n",
              "      <td>0</td>\n",
              "      <td>0.0</td>\n",
              "      <td>0.0</td>\n",
              "      <td>0.0</td>\n",
              "    </tr>\n",
              "    <tr>\n",
              "      <th>1</th>\n",
              "      <td>1719</td>\n",
              "      <td>pf</td>\n",
              "      <td>Médico cirurgião geral</td>\n",
              "      <td>2021-02-01</td>\n",
              "      <td>Brasileiro(a)</td>\n",
              "      <td>LICENCIADO</td>\n",
              "      <td>P ATENDIMENTO</td>\n",
              "      <td>Solteiro</td>\n",
              "      <td>Superior</td>\n",
              "      <td>0</td>\n",
              "      <td>0</td>\n",
              "      <td>0</td>\n",
              "      <td>0.0</td>\n",
              "      <td>0.0</td>\n",
              "      <td>0.0</td>\n",
              "    </tr>\n",
              "    <tr>\n",
              "      <th>2</th>\n",
              "      <td>1719</td>\n",
              "      <td>pf</td>\n",
              "      <td>Médico cirurgião geral</td>\n",
              "      <td>2021-03-01</td>\n",
              "      <td>Brasileiro(a)</td>\n",
              "      <td>LICENCIADO</td>\n",
              "      <td>P ATENDIMENTO</td>\n",
              "      <td>Solteiro</td>\n",
              "      <td>Superior</td>\n",
              "      <td>0</td>\n",
              "      <td>0</td>\n",
              "      <td>0</td>\n",
              "      <td>0.0</td>\n",
              "      <td>0.0</td>\n",
              "      <td>0.0</td>\n",
              "    </tr>\n",
              "    <tr>\n",
              "      <th>3</th>\n",
              "      <td>1719</td>\n",
              "      <td>pf</td>\n",
              "      <td>Médico cirurgião geral</td>\n",
              "      <td>2021-04-01</td>\n",
              "      <td>Brasileiro(a)</td>\n",
              "      <td>LICENCIADO</td>\n",
              "      <td>P ATENDIMENTO</td>\n",
              "      <td>Solteiro</td>\n",
              "      <td>Superior</td>\n",
              "      <td>0</td>\n",
              "      <td>0</td>\n",
              "      <td>0</td>\n",
              "      <td>0.0</td>\n",
              "      <td>0.0</td>\n",
              "      <td>0.0</td>\n",
              "    </tr>\n",
              "    <tr>\n",
              "      <th>4</th>\n",
              "      <td>1719</td>\n",
              "      <td>pf</td>\n",
              "      <td>Médico cirurgião geral</td>\n",
              "      <td>2021-05-01</td>\n",
              "      <td>Brasileiro(a)</td>\n",
              "      <td>LICENCIADO</td>\n",
              "      <td>P ATENDIMENTO</td>\n",
              "      <td>Solteiro</td>\n",
              "      <td>Superior</td>\n",
              "      <td>0</td>\n",
              "      <td>0</td>\n",
              "      <td>0</td>\n",
              "      <td>0.0</td>\n",
              "      <td>0.0</td>\n",
              "      <td>0.0</td>\n",
              "    </tr>\n",
              "    <tr>\n",
              "      <th>...</th>\n",
              "      <td>...</td>\n",
              "      <td>...</td>\n",
              "      <td>...</td>\n",
              "      <td>...</td>\n",
              "      <td>...</td>\n",
              "      <td>...</td>\n",
              "      <td>...</td>\n",
              "      <td>...</td>\n",
              "      <td>...</td>\n",
              "      <td>...</td>\n",
              "      <td>...</td>\n",
              "      <td>...</td>\n",
              "      <td>...</td>\n",
              "      <td>...</td>\n",
              "      <td>...</td>\n",
              "    </tr>\n",
              "    <tr>\n",
              "      <th>74479</th>\n",
              "      <td>24883</td>\n",
              "      <td>pf</td>\n",
              "      <td>Médico generalista</td>\n",
              "      <td>2022-02-01</td>\n",
              "      <td>Brasileiro(a)</td>\n",
              "      <td>ATIVO</td>\n",
              "      <td>CONSULTORIOS</td>\n",
              "      <td>Casado</td>\n",
              "      <td>Superior</td>\n",
              "      <td>0</td>\n",
              "      <td>0</td>\n",
              "      <td>0</td>\n",
              "      <td>0.0</td>\n",
              "      <td>0.0</td>\n",
              "      <td>0.0</td>\n",
              "    </tr>\n",
              "    <tr>\n",
              "      <th>74480</th>\n",
              "      <td>24883</td>\n",
              "      <td>pf</td>\n",
              "      <td>Médico generalista</td>\n",
              "      <td>2022-03-01</td>\n",
              "      <td>Brasileiro(a)</td>\n",
              "      <td>ATIVO</td>\n",
              "      <td>CONSULTORIOS</td>\n",
              "      <td>Casado</td>\n",
              "      <td>Superior</td>\n",
              "      <td>0</td>\n",
              "      <td>0</td>\n",
              "      <td>0</td>\n",
              "      <td>0.0</td>\n",
              "      <td>0.0</td>\n",
              "      <td>0.0</td>\n",
              "    </tr>\n",
              "    <tr>\n",
              "      <th>74481</th>\n",
              "      <td>24883</td>\n",
              "      <td>pf</td>\n",
              "      <td>Médico generalista</td>\n",
              "      <td>2022-04-01</td>\n",
              "      <td>Brasileiro(a)</td>\n",
              "      <td>ATIVO</td>\n",
              "      <td>CONSULTORIOS</td>\n",
              "      <td>Casado</td>\n",
              "      <td>Superior</td>\n",
              "      <td>0</td>\n",
              "      <td>0</td>\n",
              "      <td>0</td>\n",
              "      <td>0.0</td>\n",
              "      <td>0.0</td>\n",
              "      <td>0.0</td>\n",
              "    </tr>\n",
              "    <tr>\n",
              "      <th>74482</th>\n",
              "      <td>24883</td>\n",
              "      <td>pf</td>\n",
              "      <td>Médico generalista</td>\n",
              "      <td>2022-05-01</td>\n",
              "      <td>Brasileiro(a)</td>\n",
              "      <td>ATIVO</td>\n",
              "      <td>CONSULTORIOS</td>\n",
              "      <td>Casado</td>\n",
              "      <td>Superior</td>\n",
              "      <td>0</td>\n",
              "      <td>0</td>\n",
              "      <td>0</td>\n",
              "      <td>0.0</td>\n",
              "      <td>0.0</td>\n",
              "      <td>0.0</td>\n",
              "    </tr>\n",
              "    <tr>\n",
              "      <th>74483</th>\n",
              "      <td>24883</td>\n",
              "      <td>pf</td>\n",
              "      <td>Médico generalista</td>\n",
              "      <td>2022-06-01</td>\n",
              "      <td>Brasileiro(a)</td>\n",
              "      <td>ATIVO</td>\n",
              "      <td>CONSULTORIOS</td>\n",
              "      <td>Casado</td>\n",
              "      <td>Superior</td>\n",
              "      <td>0</td>\n",
              "      <td>0</td>\n",
              "      <td>0</td>\n",
              "      <td>0.0</td>\n",
              "      <td>0.0</td>\n",
              "      <td>0.0</td>\n",
              "    </tr>\n",
              "  </tbody>\n",
              "</table>\n",
              "<p>74484 rows × 15 columns</p>\n",
              "</div>\n",
              "      <button class=\"colab-df-convert\" onclick=\"convertToInteractive('df-1eb3a27a-700c-42df-ab07-0bb9c7ca5950')\"\n",
              "              title=\"Convert this dataframe to an interactive table.\"\n",
              "              style=\"display:none;\">\n",
              "        \n",
              "  <svg xmlns=\"http://www.w3.org/2000/svg\" height=\"24px\"viewBox=\"0 0 24 24\"\n",
              "       width=\"24px\">\n",
              "    <path d=\"M0 0h24v24H0V0z\" fill=\"none\"/>\n",
              "    <path d=\"M18.56 5.44l.94 2.06.94-2.06 2.06-.94-2.06-.94-.94-2.06-.94 2.06-2.06.94zm-11 1L8.5 8.5l.94-2.06 2.06-.94-2.06-.94L8.5 2.5l-.94 2.06-2.06.94zm10 10l.94 2.06.94-2.06 2.06-.94-2.06-.94-.94-2.06-.94 2.06-2.06.94z\"/><path d=\"M17.41 7.96l-1.37-1.37c-.4-.4-.92-.59-1.43-.59-.52 0-1.04.2-1.43.59L10.3 9.45l-7.72 7.72c-.78.78-.78 2.05 0 2.83L4 21.41c.39.39.9.59 1.41.59.51 0 1.02-.2 1.41-.59l7.78-7.78 2.81-2.81c.8-.78.8-2.07 0-2.86zM5.41 20L4 18.59l7.72-7.72 1.47 1.35L5.41 20z\"/>\n",
              "  </svg>\n",
              "      </button>\n",
              "      \n",
              "  <style>\n",
              "    .colab-df-container {\n",
              "      display:flex;\n",
              "      flex-wrap:wrap;\n",
              "      gap: 12px;\n",
              "    }\n",
              "\n",
              "    .colab-df-convert {\n",
              "      background-color: #E8F0FE;\n",
              "      border: none;\n",
              "      border-radius: 50%;\n",
              "      cursor: pointer;\n",
              "      display: none;\n",
              "      fill: #1967D2;\n",
              "      height: 32px;\n",
              "      padding: 0 0 0 0;\n",
              "      width: 32px;\n",
              "    }\n",
              "\n",
              "    .colab-df-convert:hover {\n",
              "      background-color: #E2EBFA;\n",
              "      box-shadow: 0px 1px 2px rgba(60, 64, 67, 0.3), 0px 1px 3px 1px rgba(60, 64, 67, 0.15);\n",
              "      fill: #174EA6;\n",
              "    }\n",
              "\n",
              "    [theme=dark] .colab-df-convert {\n",
              "      background-color: #3B4455;\n",
              "      fill: #D2E3FC;\n",
              "    }\n",
              "\n",
              "    [theme=dark] .colab-df-convert:hover {\n",
              "      background-color: #434B5C;\n",
              "      box-shadow: 0px 1px 3px 1px rgba(0, 0, 0, 0.15);\n",
              "      filter: drop-shadow(0px 1px 2px rgba(0, 0, 0, 0.3));\n",
              "      fill: #FFFFFF;\n",
              "    }\n",
              "  </style>\n",
              "\n",
              "      <script>\n",
              "        const buttonEl =\n",
              "          document.querySelector('#df-1eb3a27a-700c-42df-ab07-0bb9c7ca5950 button.colab-df-convert');\n",
              "        buttonEl.style.display =\n",
              "          google.colab.kernel.accessAllowed ? 'block' : 'none';\n",
              "\n",
              "        async function convertToInteractive(key) {\n",
              "          const element = document.querySelector('#df-1eb3a27a-700c-42df-ab07-0bb9c7ca5950');\n",
              "          const dataTable =\n",
              "            await google.colab.kernel.invokeFunction('convertToInteractive',\n",
              "                                                     [key], {});\n",
              "          if (!dataTable) return;\n",
              "\n",
              "          const docLinkHtml = 'Like what you see? Visit the ' +\n",
              "            '<a target=\"_blank\" href=https://colab.research.google.com/notebooks/data_table.ipynb>data table notebook</a>'\n",
              "            + ' to learn more about interactive tables.';\n",
              "          element.innerHTML = '';\n",
              "          dataTable['output_type'] = 'display_data';\n",
              "          await google.colab.output.renderOutput(dataTable, element);\n",
              "          const docLink = document.createElement('div');\n",
              "          docLink.innerHTML = docLinkHtml;\n",
              "          element.appendChild(docLink);\n",
              "        }\n",
              "      </script>\n",
              "    </div>\n",
              "  </div>\n",
              "  "
            ]
          },
          "metadata": {},
          "execution_count": 5
        }
      ],
      "source": [
        "df = pd.read_excel(next(iter(uploaded.keys())))\n",
        "df"
      ]
    },
    {
      "cell_type": "code",
      "execution_count": 6,
      "metadata": {
        "id": "T9lBSSsQwYN_"
      },
      "outputs": [],
      "source": [
        "\n",
        "\n",
        "le = preprocessing.LabelEncoder()\n"
      ]
    },
    {
      "cell_type": "code",
      "execution_count": 7,
      "metadata": {
        "id": "3ligcdeYhtYp",
        "colab": {
          "base_uri": "https://localhost:8080/"
        },
        "outputId": "e3976baf-21df-4061-9021-18daa2099f10"
      },
      "outputs": [
        {
          "output_type": "execute_result",
          "data": {
            "text/plain": [
              "0"
            ]
          },
          "metadata": {},
          "execution_count": 7
        }
      ],
      "source": [
        "df['pf_ou_pj'].isnull().sum()\n"
      ]
    },
    {
      "cell_type": "code",
      "execution_count": 8,
      "metadata": {
        "id": "IDJzYfKfmbYE",
        "colab": {
          "base_uri": "https://localhost:8080/"
        },
        "outputId": "ba847cc5-4997-447b-e172-0cfafee9674a"
      },
      "outputs": [
        {
          "output_type": "execute_result",
          "data": {
            "text/plain": [
              "0"
            ]
          },
          "metadata": {},
          "execution_count": 8
        }
      ],
      "source": [
        "df['competencia'].isnull().sum()"
      ]
    },
    {
      "cell_type": "markdown",
      "metadata": {
        "id": "e6D-JIbEttXU"
      },
      "source": [
        "Registros sem nacionalidade foram setados com a moda "
      ]
    },
    {
      "cell_type": "code",
      "execution_count": 9,
      "metadata": {
        "id": "6tHJ0uKtmewl"
      },
      "outputs": [],
      "source": [
        "df['nacionalidade'].fillna(('Brasileira'), inplace=True)"
      ]
    },
    {
      "cell_type": "markdown",
      "metadata": {
        "id": "kXZDImYTth7S"
      },
      "source": [
        "Como se tratam de dados sem especialidades, preferi criar um item que demonstra que não tem especialidade. Esses dados possuem valores de procedimentos e lançamentos eventuais que não podem ser ignorados. Também se trata de registros com definição difícil de fazer."
      ]
    },
    {
      "cell_type": "code",
      "execution_count": 10,
      "metadata": {
        "id": "9vu3GYMRkLWo"
      },
      "outputs": [],
      "source": [
        "df['especialidade'].fillna(('Sem Especialidade'), inplace=True)\n"
      ]
    },
    {
      "cell_type": "code",
      "execution_count": 11,
      "metadata": {
        "id": "lMCBbLPhnQSu",
        "colab": {
          "base_uri": "https://localhost:8080/"
        },
        "outputId": "615bb91d-50fb-4cc7-fd12-e104a9195692"
      },
      "outputs": [
        {
          "output_type": "execute_result",
          "data": {
            "text/plain": [
              "0"
            ]
          },
          "metadata": {},
          "execution_count": 11
        }
      ],
      "source": [
        "df['situacao_epoca_do_repasse'].isnull().sum()"
      ]
    },
    {
      "cell_type": "code",
      "execution_count": 12,
      "metadata": {
        "id": "0pDVkj9HmPTH",
        "colab": {
          "base_uri": "https://localhost:8080/"
        },
        "outputId": "9205e867-54e5-4b93-c652-8722647477b9"
      },
      "outputs": [
        {
          "output_type": "execute_result",
          "data": {
            "text/plain": [
              "5436"
            ]
          },
          "metadata": {},
          "execution_count": 12
        }
      ],
      "source": [
        "df['hospital'].isnull().sum()"
      ]
    },
    {
      "cell_type": "markdown",
      "metadata": {
        "id": "bqAiqlrltEHC"
      },
      "source": [
        "Como se tratam de dados sem hospitais, \n",
        "preferi criar um item  que demonstra que não tem hospital. Esses dados possuem valores de procedimentos e \n",
        "lançamentos eventuais que não podem ser ignorados. Também se trata de registros com definição difícil de fazer."
      ]
    },
    {
      "cell_type": "code",
      "execution_count": 13,
      "metadata": {
        "id": "zOVArWpJkOuc"
      },
      "outputs": [],
      "source": [
        "df['hospital'].fillna(('Sem Hospital'), inplace=True)"
      ]
    },
    {
      "cell_type": "markdown",
      "metadata": {
        "id": "J8Vil_uRt1Dy"
      },
      "source": [
        "Como se trata de dados sem estado civíl, \n",
        "preferi criar um estado civíl com descrição que demonstra que não tem informação por possuir alguns valores de procedimentos e \n",
        "lançamentos eventuais que não podem ser ignorados. Podemos descobrir algum conhecimento aqui no que se refere a ter mais tempo para atuar"
      ]
    },
    {
      "cell_type": "code",
      "execution_count": 14,
      "metadata": {
        "id": "cGfsjIjZn9ro"
      },
      "outputs": [],
      "source": [
        "df['estado_civil'].fillna(('Sem'), inplace=True)"
      ]
    },
    {
      "cell_type": "markdown",
      "metadata": {
        "id": "R5MzSzMZt44o"
      },
      "source": [
        "Registros sem grau de instrução se referem a cadastros de empresas.\n",
        "Será adotado um ítem pj nesse caso."
      ]
    },
    {
      "cell_type": "code",
      "execution_count": 15,
      "metadata": {
        "id": "TmFySh6fpslg"
      },
      "outputs": [],
      "source": [
        "\n",
        "df['grau_instrucao'].fillna(('pj'), inplace=True)"
      ]
    },
    {
      "cell_type": "markdown",
      "metadata": {
        "id": "LYRFuL4_uCe5"
      },
      "source": [
        "Atributos categóricos que foram convertidos utilizando one hot encoding. \n",
        "Como não se tratam de features que tem sentido de ordenação,foi escolhido\n",
        "o one hot encoding para que o modelo não interprete uma relação de ordem.\n",
        "Podemos ter problemas com memória nesse caso mas inicialmente trabalharemos da forma ensinada \n",
        "na literatura."
      ]
    },
    {
      "cell_type": "code",
      "execution_count": 16,
      "metadata": {
        "id": "-0iUtJFUV0Xp"
      },
      "outputs": [],
      "source": [
        "def generate_labelencoder(atts):\n",
        "  for attr in atts:\n",
        "    df[attr] = le.fit_transform(df[attr])\n",
        "  return df"
      ]
    },
    {
      "cell_type": "code",
      "execution_count": 17,
      "metadata": {
        "id": "eb0DE75j5dkY"
      },
      "outputs": [],
      "source": [
        "df['vai_receber'] = np.where(df['competencia']=='2022-06-01',2, \n",
        "         (np.where(df['valor_predicao_liquido'] > 0.0000000001, 1, 0)))"
      ]
    },
    {
      "cell_type": "markdown",
      "metadata": {
        "id": "qouikhMpuVEj"
      },
      "source": [
        "Features categóricas com domínio binário ou com sentido de ordenação. Convertidas utilizando o Label Encoder"
      ]
    },
    {
      "cell_type": "code",
      "execution_count": 18,
      "metadata": {
        "id": "Hip9ZnnNUkX6"
      },
      "outputs": [],
      "source": [
        "\n",
        "df  = generate_labelencoder(['pf_ou_pj','grau_instrucao','competencia','hospital','especialidade','estado_civil','nacionalidade','situacao_epoca_do_repasse'])"
      ]
    },
    {
      "cell_type": "code",
      "execution_count": 19,
      "metadata": {
        "id": "wL5nMBjEu9Td"
      },
      "outputs": [],
      "source": [
        "df = df.drop(['id_cooperado'], axis=1)"
      ]
    },
    {
      "cell_type": "code",
      "execution_count": 20,
      "metadata": {
        "id": "7ydgJbRp4oUD"
      },
      "outputs": [],
      "source": [
        "df_classificador = df"
      ]
    },
    {
      "cell_type": "code",
      "execution_count": 21,
      "metadata": {
        "id": "PdZLbDQEzyei"
      },
      "outputs": [],
      "source": [
        "df_classificador['valor_total'] = df_classificador['valor_procedimento_a_repassar']+df_classificador['valor_lancamento_eventual_a_repassar']"
      ]
    },
    {
      "cell_type": "code",
      "execution_count": 22,
      "metadata": {
        "id": "GeLEumXVnx9e"
      },
      "outputs": [],
      "source": [
        "df_classificador = df_classificador.drop(['valor_lancamento_eventual_a_repassar'], axis=1)\n",
        "df_classificador = df_classificador.drop(['pf_ou_pj'], axis=1)\n",
        "df_classificador = df_classificador.drop(['valor_procedimento_a_repassar'], axis=1)\n",
        "df_classificador = df_classificador.drop(['especialidade'], axis=1)\n",
        "df_classificador = df_classificador.drop(['nacionalidade'], axis=1)\n",
        "df_classificador = df_classificador.drop(['hospital'], axis=1)\n",
        "df_classificador = df_classificador.drop(['estado_civil'], axis=1)\n",
        "df_classificador = df_classificador.drop(['grau_instrucao'], axis=1)\n",
        "df_classificador = df_classificador.drop(['cooperado_origem_de_conversao'], axis=1)\n",
        "df_classificador = df_classificador.drop(['cooperado_destino_de_conversao'], axis=1)\n",
        "df_classificador = df_classificador.drop(['participa_servico_especial'], axis=1)"
      ]
    },
    {
      "cell_type": "code",
      "execution_count": 23,
      "metadata": {
        "id": "Q8T7nT9IfR_1"
      },
      "outputs": [],
      "source": [
        "df_competencia_junho_2022 = df_classificador[df_classificador[\"vai_receber\"]==2]"
      ]
    },
    {
      "cell_type": "code",
      "execution_count": 24,
      "metadata": {
        "id": "YelvtBDbdNY0"
      },
      "outputs": [],
      "source": [
        "df_classificador = df_classificador.drop(df_classificador.loc[df_classificador['vai_receber']==2].index)"
      ]
    },
    {
      "cell_type": "code",
      "execution_count": 25,
      "metadata": {
        "id": "d2fyGdH9D3qQ"
      },
      "outputs": [],
      "source": [
        "X = df_classificador.loc[:, df_classificador.columns != 'valor_predicao_liquido']\n",
        "X = X.loc[:, X.columns != 'vai_receber']\n",
        "X = X.query(\"competencia!='2022-06-01'\")\n",
        "Y = df_classificador.query(\"competencia!='2022-06-01'\")\n",
        "Y = Y.loc[:, Y.columns == 'vai_receber']\n"
      ]
    },
    {
      "cell_type": "code",
      "execution_count": 26,
      "metadata": {
        "id": "UEfUXeAvf_D1"
      },
      "outputs": [],
      "source": [
        "X_predict = df_competencia_junho_2022.loc[:, df_classificador.columns != 'valor_predicao_liquido']\n",
        "X_predict = X_predict.loc[:, X_predict.columns != 'vai_receber']\n",
        "\n"
      ]
    },
    {
      "cell_type": "code",
      "execution_count": 27,
      "metadata": {
        "id": "uX4g0TqLnZbr",
        "colab": {
          "base_uri": "https://localhost:8080/"
        },
        "outputId": "cfb08784-42b0-4ee8-9648-aaf210155db8"
      },
      "outputs": [
        {
          "output_type": "stream",
          "name": "stderr",
          "text": [
            "<ipython-input-27-4594ffbe4be3>:12: SettingWithCopyWarning: \n",
            "A value is trying to be set on a copy of a slice from a DataFrame.\n",
            "Try using .loc[row_indexer,col_indexer] = value instead\n",
            "\n",
            "See the caveats in the documentation: https://pandas.pydata.org/pandas-docs/stable/user_guide/indexing.html#returning-a-view-versus-a-copy\n",
            "  X_Total['valor_total'] = min_max_scaler.fit_transform(X_Total)\n",
            "/usr/local/lib/python3.8/dist-packages/pandas/core/frame.py:3678: SettingWithCopyWarning: \n",
            "A value is trying to be set on a copy of a slice from a DataFrame.\n",
            "Try using .loc[row_indexer,col_indexer] = value instead\n",
            "\n",
            "See the caveats in the documentation: https://pandas.pydata.org/pandas-docs/stable/user_guide/indexing.html#returning-a-view-versus-a-copy\n",
            "  self[col] = igetitem(value, i)\n"
          ]
        }
      ],
      "source": [
        "################################################\n",
        "X_Resto = X.loc[:, X.columns != 'valor_total']\n",
        "X_Total = X.loc[:, X.columns == 'valor_total']\n",
        "\n",
        "np.seterr(divide = 'ignore')\n",
        "\n",
        "\n",
        "\n",
        "# Normalização Min-Max dos dados.\n",
        "\n",
        "min_max_scaler = preprocessing.MinMaxScaler(feature_range=(-1,1))\n",
        "X_Total['valor_total'] = min_max_scaler.fit_transform(X_Total)\n",
        "min_max_scaler = preprocessing.MinMaxScaler(feature_range=(0,1))\n",
        "X_Resto[['competencia','situacao_epoca_do_repasse']] = min_max_scaler.fit_transform(X_Resto)\n",
        "\n",
        "\n",
        "\n",
        "\n",
        "#Y = min_max_scaler.fit_transform(Y)"
      ]
    },
    {
      "cell_type": "code",
      "execution_count": 28,
      "metadata": {
        "id": "rzOfiuIl8VxQ",
        "colab": {
          "base_uri": "https://localhost:8080/"
        },
        "outputId": "aaf24773-a930-441a-e52b-11d9bf9dbda3"
      },
      "outputs": [
        {
          "output_type": "stream",
          "name": "stderr",
          "text": [
            "<ipython-input-28-03df7e69a015>:12: SettingWithCopyWarning: \n",
            "A value is trying to be set on a copy of a slice from a DataFrame.\n",
            "Try using .loc[row_indexer,col_indexer] = value instead\n",
            "\n",
            "See the caveats in the documentation: https://pandas.pydata.org/pandas-docs/stable/user_guide/indexing.html#returning-a-view-versus-a-copy\n",
            "  X_Total_predict['valor_total'] = min_max_scaler.fit_transform(X_Total_predict)\n",
            "/usr/local/lib/python3.8/dist-packages/pandas/core/frame.py:3678: SettingWithCopyWarning: \n",
            "A value is trying to be set on a copy of a slice from a DataFrame.\n",
            "Try using .loc[row_indexer,col_indexer] = value instead\n",
            "\n",
            "See the caveats in the documentation: https://pandas.pydata.org/pandas-docs/stable/user_guide/indexing.html#returning-a-view-versus-a-copy\n",
            "  self[col] = igetitem(value, i)\n"
          ]
        }
      ],
      "source": [
        "################################################\n",
        "X_Resto_predict = X_predict.loc[:, X_predict.columns != 'valor_total']\n",
        "X_Total_predict = X_predict.loc[:, X_predict.columns == 'valor_total']\n",
        "\n",
        "np.seterr(divide = 'ignore')\n",
        "\n",
        "\n",
        "\n",
        "# Normalização Min-Max dos dados.\n",
        "\n",
        "min_max_scaler = preprocessing.MinMaxScaler(feature_range=(-1,1))\n",
        "X_Total_predict['valor_total'] = min_max_scaler.fit_transform(X_Total_predict)\n",
        "min_max_scaler = preprocessing.MinMaxScaler(feature_range=(0,1))\n",
        "X_Resto_predict[['competencia','situacao_epoca_do_repasse']] = min_max_scaler.fit_transform(X_Resto_predict)\n",
        "\n",
        "\n",
        "\n",
        "\n",
        "#Y = min_max_scaler.fit_transform(Y)"
      ]
    },
    {
      "cell_type": "code",
      "execution_count": 29,
      "metadata": {
        "id": "Y1hzUW2pn8k2"
      },
      "outputs": [],
      "source": [
        "#X = np.concatenate((resto, valor_total), axis=1)"
      ]
    },
    {
      "cell_type": "code",
      "execution_count": 30,
      "metadata": {
        "id": "PAJmsmUj_zpn"
      },
      "outputs": [],
      "source": [
        "X = X_Resto.join(X_Total)"
      ]
    },
    {
      "cell_type": "code",
      "execution_count": 31,
      "metadata": {
        "id": "lpU_gFrrCeUS"
      },
      "outputs": [],
      "source": [
        "X_predict = X_Resto_predict.join(X_Total_predict)"
      ]
    },
    {
      "cell_type": "code",
      "execution_count": 32,
      "metadata": {
        "id": "Mxgu0aEaD8jC"
      },
      "outputs": [],
      "source": [
        "x_train, x_test, y_train, y_test = train_test_split( X, Y.vai_receber, test_size=0.2)"
      ]
    },
    {
      "cell_type": "code",
      "source": [
        "gnb = GaussianNB()\n",
        "y_pred = gnb.fit(x_train, y_train).predict(x_test)"
      ],
      "metadata": {
        "id": "TtNcxlQ59kCh"
      },
      "execution_count": 33,
      "outputs": []
    },
    {
      "cell_type": "code",
      "source": [
        "print(\"Número de erros de classificação do modelo Naive Bayes {0} de {1}\"\n",
        "      .format((y_test != y_pred).sum(), y_pred.shape))\n",
        "\n",
        "ac = gnb.score(x_test, y_test)\n",
        "\n",
        "print(\"\\nAcurácia do modelo: {0:.2f}%\\n\".format(100*ac))"
      ],
      "metadata": {
        "id": "70G1GCYr9t8Z",
        "colab": {
          "base_uri": "https://localhost:8080/"
        },
        "outputId": "cd02b24f-ba01-494b-ac72-7b86ba8f0ccb"
      },
      "execution_count": 34,
      "outputs": [
        {
          "output_type": "stream",
          "name": "stdout",
          "text": [
            "Número de erros de classificação do modelo Naive Bayes 398 de (14070,)\n",
            "\n",
            "Acurácia do modelo: 97.17%\n",
            "\n"
          ]
        }
      ]
    },
    {
      "cell_type": "code",
      "source": [
        "from sklearn.svm import SVC\n",
        "svm = SVC(kernel='linear')\n",
        "svm = svm.fit(x_train,y_train)\n",
        "yprevisao = svm.predict(x_test)"
      ],
      "metadata": {
        "id": "S1DZEjWfLS9o"
      },
      "execution_count": 35,
      "outputs": []
    },
    {
      "cell_type": "code",
      "source": [
        "from sklearn import metrics\n",
        "metrics.accuracy_score(y_test, yprevisao)"
      ],
      "metadata": {
        "id": "LN-xhchWL617",
        "colab": {
          "base_uri": "https://localhost:8080/"
        },
        "outputId": "4875e387-d06f-4cb9-ccc4-b0133629e8bf"
      },
      "execution_count": 36,
      "outputs": [
        {
          "output_type": "execute_result",
          "data": {
            "text/plain": [
              "0.8056147832267235"
            ]
          },
          "metadata": {},
          "execution_count": 36
        }
      ]
    },
    {
      "cell_type": "code",
      "source": [
        "print(\"Número de erros de classificação do modelo SVM {0} de {1}\"\n",
        "      .format((y_test != yprevisao).sum(), yprevisao.shape))"
      ],
      "metadata": {
        "id": "R9FateOmNW1t",
        "colab": {
          "base_uri": "https://localhost:8080/"
        },
        "outputId": "e7337188-f471-4ca7-b98c-5ae636a186f5"
      },
      "execution_count": 37,
      "outputs": [
        {
          "output_type": "stream",
          "name": "stdout",
          "text": [
            "Número de erros de classificação do modelo SVM 2735 de (14070,)\n"
          ]
        }
      ]
    },
    {
      "cell_type": "code",
      "execution_count": 38,
      "metadata": {
        "id": "HZFX3hChd5Dg",
        "colab": {
          "base_uri": "https://localhost:8080/"
        },
        "outputId": "b84d3402-6b84-475f-f74f-6a694cdedaaa"
      },
      "outputs": [
        {
          "output_type": "stream",
          "name": "stdout",
          "text": [
            "Acurácia (base de treinamento): 0.9875968441253821\n"
          ]
        }
      ],
      "source": [
        "\n",
        "tree_recebe_nao_recebe = DecisionTreeClassifier(random_state=0, criterion='entropy',min_samples_split =100,max_depth=10) \n",
        "tree_recebe_nao_recebe = tree_recebe_nao_recebe.fit(x_train, y_train)\n",
        "print(\"Acurácia (base de treinamento):\", tree_recebe_nao_recebe.score(x_train, y_train))"
      ]
    },
    {
      "cell_type": "code",
      "source": [
        "print(\"Número de erros de classificação {0} de {1}\"\n",
        "      .format((y_test != y_pred).sum(), y_pred.shape))"
      ],
      "metadata": {
        "id": "WkSGjMLJH9N2",
        "colab": {
          "base_uri": "https://localhost:8080/"
        },
        "outputId": "a4aafd83-d83a-480d-8960-c07cc82ed0f8"
      },
      "execution_count": 39,
      "outputs": [
        {
          "output_type": "stream",
          "name": "stdout",
          "text": [
            "Número de erros de classificação 398 de (14070,)\n"
          ]
        }
      ]
    },
    {
      "cell_type": "code",
      "execution_count": 40,
      "metadata": {
        "id": "Wr0zvOYZEPVU",
        "colab": {
          "base_uri": "https://localhost:8080/"
        },
        "outputId": "10c5bbd5-caed-48e3-d236-be6b96fd04f0"
      },
      "outputs": [
        {
          "output_type": "stream",
          "name": "stdout",
          "text": [
            "Acurácia de previsão: 0.9869225302061123\n",
            "              precision    recall  f1-score   support\n",
            "\n",
            "         NAO       0.98      1.00      0.99     10795\n",
            "         SIM       1.00      0.95      0.97      3275\n",
            "\n",
            "    accuracy                           0.99     14070\n",
            "   macro avg       0.99      0.97      0.98     14070\n",
            "weighted avg       0.99      0.99      0.99     14070\n",
            "\n"
          ]
        }
      ],
      "source": [
        "y_pred = tree_recebe_nao_recebe.predict(x_test)\n",
        "print(\"Acurácia de previsão:\", accuracy_score(y_test, y_pred))\n",
        "print(classification_report(y_test, y_pred, target_names=['NAO','SIM']))\n"
      ]
    },
    {
      "cell_type": "code",
      "execution_count": 41,
      "metadata": {
        "id": "JBMOWpuDh0ku"
      },
      "outputs": [],
      "source": [
        "y_predict = tree_recebe_nao_recebe.predict(X_predict)\n"
      ]
    },
    {
      "cell_type": "code",
      "execution_count": 42,
      "metadata": {
        "id": "rmYgKApkh8gs"
      },
      "outputs": [],
      "source": [
        "X_predict['vai_receber'] =y_predict"
      ]
    },
    {
      "cell_type": "code",
      "execution_count": 42,
      "metadata": {
        "id": "lx49EMy8QWMP"
      },
      "outputs": [],
      "source": []
    },
    {
      "cell_type": "code",
      "execution_count": 43,
      "metadata": {
        "id": "0hC2UsgM3txK"
      },
      "outputs": [],
      "source": [
        "x_train_test = X.join(Y)"
      ]
    },
    {
      "cell_type": "code",
      "execution_count": 44,
      "metadata": {
        "id": "ND-0_F_hm_H5"
      },
      "outputs": [],
      "source": [
        "df_apos_classificacao=pd.concat([X_predict,x_train_test])"
      ]
    },
    {
      "cell_type": "code",
      "execution_count": 45,
      "metadata": {
        "id": "l1fhuSSlrtMS"
      },
      "outputs": [],
      "source": [
        "df['vai_receber']=df_apos_classificacao['vai_receber']"
      ]
    },
    {
      "cell_type": "code",
      "execution_count": 46,
      "metadata": {
        "id": "auIyCkdqFo-p"
      },
      "outputs": [],
      "source": [
        "import itertools\n",
        "import warnings\n",
        "warnings.filterwarnings('ignore')"
      ]
    },
    {
      "cell_type": "code",
      "execution_count": null,
      "metadata": {
        "colab": {
          "base_uri": "https://localhost:8080/"
        },
        "id": "5tkkkn17FvkB",
        "outputId": "56d044ef-6d8a-4391-9223-f8950376d737"
      },
      "outputs": [
        {
          "output_type": "stream",
          "name": "stdout",
          "text": [
            "Fitting 5 folds for each of 60 candidates, totalling 300 fits\n",
            "Train R^2 Score : 0.987\n",
            "Test R^2 Score : 0.988\n",
            "Best R^2 Score Through Grid Search : 0.988\n",
            "Best Parameters :  {'criterion': 'entropy', 'max_depth': 10, 'min_samples_split': 20}\n",
            "CPU times: user 1.13 s, sys: 187 ms, total: 1.31 s\n",
            "Wall time: 9.63 s\n"
          ]
        }
      ],
      "source": [
        "%%time\n",
        "\n",
        "params = {'min_samples_split': [20,30,40,50,100],\n",
        "          'max_depth': [10,15,20,30,40,50],\n",
        "          'criterion': ['gini','entropy']\n",
        "         }\n",
        "decision_tree = GridSearchCV(DecisionTreeClassifier(random_state=0), param_grid=params, n_jobs=-1, cv=5, verbose=5)\n",
        "decision_tree.fit(x_train,y_train)\n",
        "\n",
        "print('Train R^2 Score : %.3f'%decision_tree.best_estimator_.score(x_train, y_train))\n",
        "print('Test R^2 Score : %.3f'%decision_tree.best_estimator_.score(x_test, y_test))\n",
        "print('Best R^2 Score Through Grid Search : %.3f'%decision_tree.best_score_)\n",
        "print('Best Parameters : ',decision_tree.best_params_)"
      ]
    },
    {
      "cell_type": "code",
      "execution_count": 47,
      "metadata": {
        "id": "68KpVWu805fq"
      },
      "outputs": [],
      "source": [
        "df_regressao = df"
      ]
    },
    {
      "cell_type": "code",
      "execution_count": 48,
      "metadata": {
        "id": "-8vjPkNr2jIt"
      },
      "outputs": [],
      "source": [
        "del df_regressao['valor_lancamento_eventual_a_repassar']\n",
        "del df_regressao['valor_procedimento_a_repassar']"
      ]
    },
    {
      "cell_type": "code",
      "execution_count": 49,
      "metadata": {
        "id": "2ezHHvq4BWDs"
      },
      "outputs": [],
      "source": [
        "X_feature_selection = df_regressao.query(\"competencia!=17 and vai_receber==1\")\n",
        "X_feature_selection = X_feature_selection.loc[:, X_feature_selection.columns != 'valor_predicao_liquido']\n",
        "\n",
        "Y_feature_selection = df_regressao.query(\"competencia!=17 and vai_receber==1\")\n",
        "Y_feature_selection = Y_feature_selection.loc[:, Y_feature_selection.columns == 'valor_predicao_liquido']"
      ]
    },
    {
      "cell_type": "code",
      "execution_count": 50,
      "metadata": {
        "id": "HqD0vu1MGcl2"
      },
      "outputs": [],
      "source": [
        "del X_feature_selection['vai_receber']"
      ]
    },
    {
      "cell_type": "code",
      "source": [
        "x_train, x_test, y_train, y_test = train_test_split( X_feature_selection, Y_feature_selection, test_size=0.2)"
      ],
      "metadata": {
        "id": "OQM0GIm16awo"
      },
      "execution_count": 51,
      "outputs": []
    },
    {
      "cell_type": "code",
      "execution_count": 52,
      "metadata": {
        "id": "EmnxADvLy0Vi"
      },
      "outputs": [],
      "source": [
        "X_regressao = df_regressao.query(\"competencia!=17 and vai_receber==1\")\n",
        "X_regressao = X_regressao.loc[:, X_regressao.columns != 'valor_predicao_liquido']\n",
        "\n",
        "Y_regressao = df_regressao.query(\"competencia!=17 and vai_receber==1\")\n",
        "Y_regressao = Y_regressao.loc[:, Y_regressao.columns == 'valor_predicao_liquido']"
      ]
    },
    {
      "cell_type": "code",
      "source": [
        "X_regressao"
      ],
      "metadata": {
        "id": "Nq3Qdg_254Td",
        "colab": {
          "base_uri": "https://localhost:8080/",
          "height": 488
        },
        "outputId": "30089d5c-9a09-46ad-b868-45eb4eb0279b"
      },
      "execution_count": 53,
      "outputs": [
        {
          "output_type": "execute_result",
          "data": {
            "text/plain": [
              "       pf_ou_pj  especialidade  competencia  nacionalidade  \\\n",
              "19            0             52            1              3   \n",
              "20            0             52            2              3   \n",
              "21            0             52            3              3   \n",
              "22            0             52            4              3   \n",
              "28            0             52           10              3   \n",
              "...         ...            ...          ...            ...   \n",
              "73906         1             27           16              2   \n",
              "73942         0             58           16              3   \n",
              "73960         1             40           16              2   \n",
              "74104         0             43           16              3   \n",
              "74194         0             43           16              3   \n",
              "\n",
              "       situacao_epoca_do_repasse  hospital  estado_civil  grau_instrucao  \\\n",
              "19                             0        11             0               2   \n",
              "20                             0        11             0               2   \n",
              "21                             0        11             0               2   \n",
              "22                             0        11             0               2   \n",
              "28                             0        11             0               2   \n",
              "...                          ...       ...           ...             ...   \n",
              "73906                          0        17             4               3   \n",
              "73942                          0         7             6               2   \n",
              "73960                          0        17             4               3   \n",
              "74104                          0         6             6               2   \n",
              "74194                          0        11             6               2   \n",
              "\n",
              "       cooperado_origem_de_conversao  cooperado_destino_de_conversao  \\\n",
              "19                                 1                               0   \n",
              "20                                 1                               0   \n",
              "21                                 1                               0   \n",
              "22                                 1                               0   \n",
              "28                                 1                               0   \n",
              "...                              ...                             ...   \n",
              "73906                              0                               1   \n",
              "73942                              0                               0   \n",
              "73960                              0                               1   \n",
              "74104                              0                               0   \n",
              "74194                              0                               0   \n",
              "\n",
              "       participa_servico_especial  vai_receber  valor_total  \n",
              "19                              0            1       172.88  \n",
              "20                              0            1       310.10  \n",
              "21                              0            1       347.65  \n",
              "22                              0            1       300.65  \n",
              "28                              0            1        18.36  \n",
              "...                           ...          ...          ...  \n",
              "73906                           0            1      4872.95  \n",
              "73942                           0            1       822.80  \n",
              "73960                           0            1     10714.33  \n",
              "74104                           0            1      2500.00  \n",
              "74194                           0            1      1250.00  \n",
              "\n",
              "[15958 rows x 13 columns]"
            ],
            "text/html": [
              "\n",
              "  <div id=\"df-b7a72e9c-fc2f-4177-8803-e34a1dbb260c\">\n",
              "    <div class=\"colab-df-container\">\n",
              "      <div>\n",
              "<style scoped>\n",
              "    .dataframe tbody tr th:only-of-type {\n",
              "        vertical-align: middle;\n",
              "    }\n",
              "\n",
              "    .dataframe tbody tr th {\n",
              "        vertical-align: top;\n",
              "    }\n",
              "\n",
              "    .dataframe thead th {\n",
              "        text-align: right;\n",
              "    }\n",
              "</style>\n",
              "<table border=\"1\" class=\"dataframe\">\n",
              "  <thead>\n",
              "    <tr style=\"text-align: right;\">\n",
              "      <th></th>\n",
              "      <th>pf_ou_pj</th>\n",
              "      <th>especialidade</th>\n",
              "      <th>competencia</th>\n",
              "      <th>nacionalidade</th>\n",
              "      <th>situacao_epoca_do_repasse</th>\n",
              "      <th>hospital</th>\n",
              "      <th>estado_civil</th>\n",
              "      <th>grau_instrucao</th>\n",
              "      <th>cooperado_origem_de_conversao</th>\n",
              "      <th>cooperado_destino_de_conversao</th>\n",
              "      <th>participa_servico_especial</th>\n",
              "      <th>vai_receber</th>\n",
              "      <th>valor_total</th>\n",
              "    </tr>\n",
              "  </thead>\n",
              "  <tbody>\n",
              "    <tr>\n",
              "      <th>19</th>\n",
              "      <td>0</td>\n",
              "      <td>52</td>\n",
              "      <td>1</td>\n",
              "      <td>3</td>\n",
              "      <td>0</td>\n",
              "      <td>11</td>\n",
              "      <td>0</td>\n",
              "      <td>2</td>\n",
              "      <td>1</td>\n",
              "      <td>0</td>\n",
              "      <td>0</td>\n",
              "      <td>1</td>\n",
              "      <td>172.88</td>\n",
              "    </tr>\n",
              "    <tr>\n",
              "      <th>20</th>\n",
              "      <td>0</td>\n",
              "      <td>52</td>\n",
              "      <td>2</td>\n",
              "      <td>3</td>\n",
              "      <td>0</td>\n",
              "      <td>11</td>\n",
              "      <td>0</td>\n",
              "      <td>2</td>\n",
              "      <td>1</td>\n",
              "      <td>0</td>\n",
              "      <td>0</td>\n",
              "      <td>1</td>\n",
              "      <td>310.10</td>\n",
              "    </tr>\n",
              "    <tr>\n",
              "      <th>21</th>\n",
              "      <td>0</td>\n",
              "      <td>52</td>\n",
              "      <td>3</td>\n",
              "      <td>3</td>\n",
              "      <td>0</td>\n",
              "      <td>11</td>\n",
              "      <td>0</td>\n",
              "      <td>2</td>\n",
              "      <td>1</td>\n",
              "      <td>0</td>\n",
              "      <td>0</td>\n",
              "      <td>1</td>\n",
              "      <td>347.65</td>\n",
              "    </tr>\n",
              "    <tr>\n",
              "      <th>22</th>\n",
              "      <td>0</td>\n",
              "      <td>52</td>\n",
              "      <td>4</td>\n",
              "      <td>3</td>\n",
              "      <td>0</td>\n",
              "      <td>11</td>\n",
              "      <td>0</td>\n",
              "      <td>2</td>\n",
              "      <td>1</td>\n",
              "      <td>0</td>\n",
              "      <td>0</td>\n",
              "      <td>1</td>\n",
              "      <td>300.65</td>\n",
              "    </tr>\n",
              "    <tr>\n",
              "      <th>28</th>\n",
              "      <td>0</td>\n",
              "      <td>52</td>\n",
              "      <td>10</td>\n",
              "      <td>3</td>\n",
              "      <td>0</td>\n",
              "      <td>11</td>\n",
              "      <td>0</td>\n",
              "      <td>2</td>\n",
              "      <td>1</td>\n",
              "      <td>0</td>\n",
              "      <td>0</td>\n",
              "      <td>1</td>\n",
              "      <td>18.36</td>\n",
              "    </tr>\n",
              "    <tr>\n",
              "      <th>...</th>\n",
              "      <td>...</td>\n",
              "      <td>...</td>\n",
              "      <td>...</td>\n",
              "      <td>...</td>\n",
              "      <td>...</td>\n",
              "      <td>...</td>\n",
              "      <td>...</td>\n",
              "      <td>...</td>\n",
              "      <td>...</td>\n",
              "      <td>...</td>\n",
              "      <td>...</td>\n",
              "      <td>...</td>\n",
              "      <td>...</td>\n",
              "    </tr>\n",
              "    <tr>\n",
              "      <th>73906</th>\n",
              "      <td>1</td>\n",
              "      <td>27</td>\n",
              "      <td>16</td>\n",
              "      <td>2</td>\n",
              "      <td>0</td>\n",
              "      <td>17</td>\n",
              "      <td>4</td>\n",
              "      <td>3</td>\n",
              "      <td>0</td>\n",
              "      <td>1</td>\n",
              "      <td>0</td>\n",
              "      <td>1</td>\n",
              "      <td>4872.95</td>\n",
              "    </tr>\n",
              "    <tr>\n",
              "      <th>73942</th>\n",
              "      <td>0</td>\n",
              "      <td>58</td>\n",
              "      <td>16</td>\n",
              "      <td>3</td>\n",
              "      <td>0</td>\n",
              "      <td>7</td>\n",
              "      <td>6</td>\n",
              "      <td>2</td>\n",
              "      <td>0</td>\n",
              "      <td>0</td>\n",
              "      <td>0</td>\n",
              "      <td>1</td>\n",
              "      <td>822.80</td>\n",
              "    </tr>\n",
              "    <tr>\n",
              "      <th>73960</th>\n",
              "      <td>1</td>\n",
              "      <td>40</td>\n",
              "      <td>16</td>\n",
              "      <td>2</td>\n",
              "      <td>0</td>\n",
              "      <td>17</td>\n",
              "      <td>4</td>\n",
              "      <td>3</td>\n",
              "      <td>0</td>\n",
              "      <td>1</td>\n",
              "      <td>0</td>\n",
              "      <td>1</td>\n",
              "      <td>10714.33</td>\n",
              "    </tr>\n",
              "    <tr>\n",
              "      <th>74104</th>\n",
              "      <td>0</td>\n",
              "      <td>43</td>\n",
              "      <td>16</td>\n",
              "      <td>3</td>\n",
              "      <td>0</td>\n",
              "      <td>6</td>\n",
              "      <td>6</td>\n",
              "      <td>2</td>\n",
              "      <td>0</td>\n",
              "      <td>0</td>\n",
              "      <td>0</td>\n",
              "      <td>1</td>\n",
              "      <td>2500.00</td>\n",
              "    </tr>\n",
              "    <tr>\n",
              "      <th>74194</th>\n",
              "      <td>0</td>\n",
              "      <td>43</td>\n",
              "      <td>16</td>\n",
              "      <td>3</td>\n",
              "      <td>0</td>\n",
              "      <td>11</td>\n",
              "      <td>6</td>\n",
              "      <td>2</td>\n",
              "      <td>0</td>\n",
              "      <td>0</td>\n",
              "      <td>0</td>\n",
              "      <td>1</td>\n",
              "      <td>1250.00</td>\n",
              "    </tr>\n",
              "  </tbody>\n",
              "</table>\n",
              "<p>15958 rows × 13 columns</p>\n",
              "</div>\n",
              "      <button class=\"colab-df-convert\" onclick=\"convertToInteractive('df-b7a72e9c-fc2f-4177-8803-e34a1dbb260c')\"\n",
              "              title=\"Convert this dataframe to an interactive table.\"\n",
              "              style=\"display:none;\">\n",
              "        \n",
              "  <svg xmlns=\"http://www.w3.org/2000/svg\" height=\"24px\"viewBox=\"0 0 24 24\"\n",
              "       width=\"24px\">\n",
              "    <path d=\"M0 0h24v24H0V0z\" fill=\"none\"/>\n",
              "    <path d=\"M18.56 5.44l.94 2.06.94-2.06 2.06-.94-2.06-.94-.94-2.06-.94 2.06-2.06.94zm-11 1L8.5 8.5l.94-2.06 2.06-.94-2.06-.94L8.5 2.5l-.94 2.06-2.06.94zm10 10l.94 2.06.94-2.06 2.06-.94-2.06-.94-.94-2.06-.94 2.06-2.06.94z\"/><path d=\"M17.41 7.96l-1.37-1.37c-.4-.4-.92-.59-1.43-.59-.52 0-1.04.2-1.43.59L10.3 9.45l-7.72 7.72c-.78.78-.78 2.05 0 2.83L4 21.41c.39.39.9.59 1.41.59.51 0 1.02-.2 1.41-.59l7.78-7.78 2.81-2.81c.8-.78.8-2.07 0-2.86zM5.41 20L4 18.59l7.72-7.72 1.47 1.35L5.41 20z\"/>\n",
              "  </svg>\n",
              "      </button>\n",
              "      \n",
              "  <style>\n",
              "    .colab-df-container {\n",
              "      display:flex;\n",
              "      flex-wrap:wrap;\n",
              "      gap: 12px;\n",
              "    }\n",
              "\n",
              "    .colab-df-convert {\n",
              "      background-color: #E8F0FE;\n",
              "      border: none;\n",
              "      border-radius: 50%;\n",
              "      cursor: pointer;\n",
              "      display: none;\n",
              "      fill: #1967D2;\n",
              "      height: 32px;\n",
              "      padding: 0 0 0 0;\n",
              "      width: 32px;\n",
              "    }\n",
              "\n",
              "    .colab-df-convert:hover {\n",
              "      background-color: #E2EBFA;\n",
              "      box-shadow: 0px 1px 2px rgba(60, 64, 67, 0.3), 0px 1px 3px 1px rgba(60, 64, 67, 0.15);\n",
              "      fill: #174EA6;\n",
              "    }\n",
              "\n",
              "    [theme=dark] .colab-df-convert {\n",
              "      background-color: #3B4455;\n",
              "      fill: #D2E3FC;\n",
              "    }\n",
              "\n",
              "    [theme=dark] .colab-df-convert:hover {\n",
              "      background-color: #434B5C;\n",
              "      box-shadow: 0px 1px 3px 1px rgba(0, 0, 0, 0.15);\n",
              "      filter: drop-shadow(0px 1px 2px rgba(0, 0, 0, 0.3));\n",
              "      fill: #FFFFFF;\n",
              "    }\n",
              "  </style>\n",
              "\n",
              "      <script>\n",
              "        const buttonEl =\n",
              "          document.querySelector('#df-b7a72e9c-fc2f-4177-8803-e34a1dbb260c button.colab-df-convert');\n",
              "        buttonEl.style.display =\n",
              "          google.colab.kernel.accessAllowed ? 'block' : 'none';\n",
              "\n",
              "        async function convertToInteractive(key) {\n",
              "          const element = document.querySelector('#df-b7a72e9c-fc2f-4177-8803-e34a1dbb260c');\n",
              "          const dataTable =\n",
              "            await google.colab.kernel.invokeFunction('convertToInteractive',\n",
              "                                                     [key], {});\n",
              "          if (!dataTable) return;\n",
              "\n",
              "          const docLinkHtml = 'Like what you see? Visit the ' +\n",
              "            '<a target=\"_blank\" href=https://colab.research.google.com/notebooks/data_table.ipynb>data table notebook</a>'\n",
              "            + ' to learn more about interactive tables.';\n",
              "          element.innerHTML = '';\n",
              "          dataTable['output_type'] = 'display_data';\n",
              "          await google.colab.output.renderOutput(dataTable, element);\n",
              "          const docLink = document.createElement('div');\n",
              "          docLink.innerHTML = docLinkHtml;\n",
              "          element.appendChild(docLink);\n",
              "        }\n",
              "      </script>\n",
              "    </div>\n",
              "  </div>\n",
              "  "
            ]
          },
          "metadata": {},
          "execution_count": 53
        }
      ]
    },
    {
      "cell_type": "code",
      "execution_count": 54,
      "metadata": {
        "id": "dVzJDOxDk0i3"
      },
      "outputs": [],
      "source": [
        "X_regressao = X_regressao[['pf_ou_pj', 'especialidade', 'competencia', 'hospital',\n",
        "       'grau_instrucao', 'valor_total']]"
      ]
    },
    {
      "cell_type": "code",
      "execution_count": 55,
      "metadata": {
        "id": "U20W4EHP1ZNg"
      },
      "outputs": [],
      "source": [
        "X_predicao_da_regressao = df_regressao.query(\"competencia==17 and vai_receber==1\")\n",
        "X_predicao_da_regressao = X_predicao_da_regressao.loc[:, X_predicao_da_regressao.columns != 'valor_predicao_liquido']\n"
      ]
    },
    {
      "cell_type": "code",
      "execution_count": 56,
      "metadata": {
        "id": "U3EFZLEVlGa9"
      },
      "outputs": [],
      "source": [
        "X_predicao_da_regressao = X_predicao_da_regressao[['pf_ou_pj', 'especialidade', 'competencia', 'hospital',\n",
        "       'grau_instrucao', 'valor_total']]"
      ]
    },
    {
      "cell_type": "code",
      "execution_count": 57,
      "metadata": {
        "id": "pejivMuy3c5h"
      },
      "outputs": [],
      "source": [
        "\n",
        "X_Resto = X_regressao.loc[:, X_regressao.columns != 'valor_total']\n",
        "X_Total = X_regressao.loc[:, X_regressao.columns == 'valor_total']\n",
        "\n",
        "np.seterr(divide = 'ignore')\n",
        "\n",
        "\n",
        "\n",
        "# Normalização Min-Max dos dados.\n",
        "\n",
        "\n",
        "min_max_scaler = preprocessing.MinMaxScaler(feature_range=(-1,1))\n",
        "valor_total = min_max_scaler.fit_transform(X_Total)\n",
        "min_max_scaler = preprocessing.MinMaxScaler(feature_range=(0,1))\n",
        "resto = min_max_scaler.fit_transform(X_Resto)\n",
        "\n",
        "\n",
        "\n",
        "\n",
        "#Y = min_max_scaler.fit_transform(Y)"
      ]
    },
    {
      "cell_type": "code",
      "execution_count": 58,
      "metadata": {
        "id": "20Ck5HnTDKSx"
      },
      "outputs": [],
      "source": [
        "\n",
        "X_Resto_predicao_regressao = X_predicao_da_regressao.loc[:, X_predicao_da_regressao.columns != 'valor_total']\n",
        "X_Total_predicao_regressao = X_predicao_da_regressao.loc[:, X_predicao_da_regressao.columns == 'valor_total']\n",
        "\n",
        "np.seterr(divide = 'ignore')\n",
        "\n",
        "\n",
        "min_max_scaler = preprocessing.MinMaxScaler(feature_range=(-1,1))\n",
        "valor_total_predicao_regressao = min_max_scaler.fit_transform(X_Total_predicao_regressao)\n",
        "min_max_scaler = preprocessing.MinMaxScaler(feature_range=(0,1))\n",
        "resto_predicao_regressao = min_max_scaler.fit_transform(X_Resto_predicao_regressao)\n",
        "\n"
      ]
    },
    {
      "cell_type": "code",
      "execution_count": 59,
      "metadata": {
        "id": "ttWHKr_05KTx"
      },
      "outputs": [],
      "source": [
        "X = np.concatenate((resto, valor_total), axis=1)"
      ]
    },
    {
      "cell_type": "code",
      "execution_count": 60,
      "metadata": {
        "id": "BAwmW7rEDZuT"
      },
      "outputs": [],
      "source": [
        "X_predicao_regressao = np.concatenate((resto_predicao_regressao, valor_total_predicao_regressao), axis=1)"
      ]
    },
    {
      "cell_type": "code",
      "execution_count": 215,
      "metadata": {
        "id": "Pg5kKnBO5Mjc"
      },
      "outputs": [],
      "source": [
        "x_train, x_test, y_train, y_test = train_test_split( X, Y_regressao, test_size=0.2)"
      ]
    },
    {
      "cell_type": "code",
      "source": [
        "mlp = MLPRegressor(random_state=123,activation='relu', alpha=0.001, max_iter=5000,hidden_layer_sizes= (20),epsilon=1e-08,  verbose=True,solver='lbfgs',learning_rate='constant')\n",
        "mlp.fit(x_train, y_train)"
      ],
      "metadata": {
        "colab": {
          "base_uri": "https://localhost:8080/"
        },
        "id": "OtWSYHQK-Zns",
        "outputId": "c841eee8-dd74-49b3-ecb4-ee7fd8720af4"
      },
      "execution_count": 216,
      "outputs": [
        {
          "output_type": "execute_result",
          "data": {
            "text/plain": [
              "MLPRegressor(alpha=0.001, hidden_layer_sizes=20, max_iter=5000,\n",
              "             random_state=123, solver='lbfgs', verbose=True)"
            ]
          },
          "metadata": {},
          "execution_count": 216
        }
      ]
    },
    {
      "cell_type": "code",
      "source": [
        "pred = mlp.predict(x_test)"
      ],
      "metadata": {
        "id": "q1AM6tMw-qSf"
      },
      "execution_count": 217,
      "outputs": []
    },
    {
      "cell_type": "code",
      "source": [
        "from sklearn.metrics import r2_score\n"
      ],
      "metadata": {
        "id": "YJXOkoKn6aKV"
      },
      "execution_count": 218,
      "outputs": []
    },
    {
      "cell_type": "code",
      "source": [
        "print('acuracia na base de Teste ' + str(metrics.r2_score(y_test.to_numpy(), pred)))"
      ],
      "metadata": {
        "colab": {
          "base_uri": "https://localhost:8080/"
        },
        "id": "M5Wih3Zm-iui",
        "outputId": "81dedf16-c9d5-45be-ca5b-5f6bc6a42b52"
      },
      "execution_count": 219,
      "outputs": [
        {
          "output_type": "stream",
          "name": "stdout",
          "text": [
            "acuracia na base de Teste 0.9961175247267366\n"
          ]
        }
      ]
    },
    {
      "cell_type": "code",
      "source": [
        "from sklearn.metrics import mean_squared_error, r2_score #Métricas para avaliar a regressÃ£o"
      ],
      "metadata": {
        "id": "Qqd_6Op571Uz"
      },
      "execution_count": 220,
      "outputs": []
    },
    {
      "cell_type": "code",
      "source": [
        "print(\"Erro quadrÃ¡tico MÃ©dio = \",mean_squared_error(y_test, pred)) #Erro quadrático médio\n",
        "print(\"R2 =\", r2_score(y_test, pred)) #Coeficiente de determinação"
      ],
      "metadata": {
        "colab": {
          "base_uri": "https://localhost:8080/"
        },
        "id": "Kn-2xPpr7j9h",
        "outputId": "f7765d9e-0eb2-4f42-d5a6-d83cee8e919a"
      },
      "execution_count": 221,
      "outputs": [
        {
          "output_type": "stream",
          "name": "stdout",
          "text": [
            "Erro quadrÃ¡tico MÃ©dio =  3056147.318657154\n",
            "R2 = 0.9961175247267366\n"
          ]
        }
      ]
    },
    {
      "cell_type": "code",
      "source": [
        "y_test['valor_predito']=pred"
      ],
      "metadata": {
        "id": "3tza7MfP--9R"
      },
      "execution_count": 222,
      "outputs": []
    },
    {
      "cell_type": "code",
      "source": [
        "#Com margem de erro de 10%\n",
        "len(y_test[(10*abs(y_test['valor_predicao_liquido']/100))>=abs(y_test['valor_predicao_liquido']-y_test['valor_predito'])])"
      ],
      "metadata": {
        "colab": {
          "base_uri": "https://localhost:8080/"
        },
        "id": "EY1PphlW-0Ct",
        "outputId": "c1261432-2af4-480d-a649-816588d69a05"
      },
      "execution_count": 223,
      "outputs": [
        {
          "output_type": "execute_result",
          "data": {
            "text/plain": [
              "1221"
            ]
          },
          "metadata": {},
          "execution_count": 223
        }
      ]
    },
    {
      "cell_type": "code",
      "source": [
        "#Com margem de erro de 20%\n",
        "len(y_test[(20*abs(y_test['valor_predicao_liquido']/100))>=abs(y_test['valor_predicao_liquido']-y_test['valor_predito'])])"
      ],
      "metadata": {
        "colab": {
          "base_uri": "https://localhost:8080/"
        },
        "id": "F2HJYSrWDyTg",
        "outputId": "f4712f17-fcfd-4992-9c45-084769be82bc"
      },
      "execution_count": 224,
      "outputs": [
        {
          "output_type": "execute_result",
          "data": {
            "text/plain": [
              "2002"
            ]
          },
          "metadata": {},
          "execution_count": 224
        }
      ]
    },
    {
      "cell_type": "code",
      "source": [
        "%%time\n",
        "\n",
        "params = {'activation': ['relu', 'tanh', 'logistic', 'identity'],\n",
        "          'solver': ['adam','sgd', 'lbfgs'],\n",
        "          'hidden_layer_sizes': [(1,),(10,),(20,),(30,)] ,\n",
        "          'learning_rate' : ['constant', 'adaptive', 'invscaling']\n",
        "         }\n",
        "\n",
        "mlp_regressor_grid = GridSearchCV(MLPRegressor(random_state=123, alpha=0.001, ), param_grid=params, n_jobs=-1, cv=5, verbose=5)\n",
        "mlp_regressor_grid.fit(x_train,y_train)\n",
        "\n",
        "print('Train R^2 Score : %.3f'%mlp_regressor_grid.best_estimator_.score(x_train, y_train))\n",
        "print('Test R^2 Score : %.3f'%mlp_regressor_grid.best_estimator_.score(x_test, y_test))\n",
        "print('Best R^2 Score Through Grid Search : %.3f'%mlp_regressor_grid.best_score_)\n",
        "print('Best Parameters : ',mlp_regressor_grid.best_params_)"
      ],
      "metadata": {
        "id": "U2KHIm0L-Q0M",
        "colab": {
          "base_uri": "https://localhost:8080/"
        },
        "outputId": "83807eae-4a47-4ec0-ee5f-92989cf0957e"
      },
      "execution_count": 164,
      "outputs": [
        {
          "output_type": "stream",
          "name": "stdout",
          "text": [
            "Fitting 5 folds for each of 144 candidates, totalling 720 fits\n",
            "Train R^2 Score : 0.998\n",
            "Test R^2 Score : 0.998\n",
            "Best R^2 Score Through Grid Search : 0.997\n",
            "Best Parameters :  {'activation': 'relu', 'hidden_layer_sizes': (20,), 'learning_rate': 'constant', 'solver': 'lbfgs'}\n",
            "CPU times: user 16.2 s, sys: 4.08 s, total: 20.3 s\n",
            "Wall time: 23min 17s\n"
          ]
        }
      ]
    },
    {
      "cell_type": "code",
      "source": [
        "x_train, x_test, y_train, y_test = train_test_split( X, Y_regressao, test_size=0.2)"
      ],
      "metadata": {
        "id": "TFRKnLE5BfOk"
      },
      "execution_count": 207,
      "outputs": []
    },
    {
      "cell_type": "code",
      "source": [
        "%%time\n",
        "from sklearn.linear_model import Ridge\n",
        "\n",
        "\n",
        "params = {'alpha': [0.01,0.1,1,10]\n",
        "         }\n",
        "ridgeReg = GridSearchCV(Ridge(random_state=0), param_grid=params, n_jobs=-1, cv=5, verbose=5)\n",
        "ridgeReg.fit(x_train,y_train)\n",
        "\n",
        "print('Train R^2 Score : %.3f'%ridgeReg.best_estimator_.score(x_train, y_train))\n",
        "print('Test R^2 Score : %.3f'%ridgeReg.best_estimator_.score(x_test, y_test))\n",
        "print('Best R^2 Score Through Grid Search : %.3f'%ridgeReg.best_score_)\n",
        "print('Best Parameters : ',ridgeReg.best_params_)\n"
      ],
      "metadata": {
        "id": "BQugYc33JJQK",
        "colab": {
          "base_uri": "https://localhost:8080/"
        },
        "outputId": "d86ec4b2-96ae-4a83-fcc8-a1d67b4591bd"
      },
      "execution_count": 186,
      "outputs": [
        {
          "output_type": "stream",
          "name": "stdout",
          "text": [
            "Fitting 5 folds for each of 4 candidates, totalling 20 fits\n",
            "Train R^2 Score : 0.997\n",
            "Test R^2 Score : 0.991\n",
            "Best R^2 Score Through Grid Search : 0.997\n",
            "Best Parameters :  {'alpha': 0.1}\n",
            "CPU times: user 87.4 ms, sys: 18.6 ms, total: 106 ms\n",
            "Wall time: 192 ms\n"
          ]
        }
      ]
    },
    {
      "cell_type": "code",
      "source": [
        "from sklearn.linear_model import Ridge\n",
        "\n",
        "ridgeReg = Ridge(alpha=0.1).fit(x_train,y_train)\n"
      ],
      "metadata": {
        "id": "g9CEVEw1Cx8D"
      },
      "execution_count": 208,
      "outputs": []
    },
    {
      "cell_type": "code",
      "source": [
        "pred = ridgeReg.predict(x_test)\n",
        "\n",
        "mse = np.mean((pred - y_test)**2)\n",
        "\n",
        "mse"
      ],
      "metadata": {
        "colab": {
          "base_uri": "https://localhost:8080/"
        },
        "id": "H72ETyn_BP1M",
        "outputId": "0c56f305-0b44-4508-9bc2-a7a1a9ebe38f"
      },
      "execution_count": 209,
      "outputs": [
        {
          "output_type": "execute_result",
          "data": {
            "text/plain": [
              "valor_predicao_liquido    954655.311135\n",
              "dtype: float64"
            ]
          },
          "metadata": {},
          "execution_count": 209
        }
      ]
    },
    {
      "cell_type": "code",
      "source": [
        "print('acuracia na base de treinamento ' + str(ridgeReg.score(x_train,y_train)))\n",
        "print('acuracia na base de teste '+ str(ridgeReg.score(x_test,y_test)))"
      ],
      "metadata": {
        "colab": {
          "base_uri": "https://localhost:8080/"
        },
        "id": "u_74BKJqBQUR",
        "outputId": "6458da9f-90e3-4ddf-93ab-d20777f97588"
      },
      "execution_count": 210,
      "outputs": [
        {
          "output_type": "stream",
          "name": "stdout",
          "text": [
            "acuracia na base de treinamento 0.9962327821047537\n",
            "acuracia na base de teste 0.9978246990585917\n"
          ]
        }
      ]
    },
    {
      "cell_type": "code",
      "source": [
        "y_test['valor_predito']=pred"
      ],
      "metadata": {
        "id": "BUxo7R-oBZLC"
      },
      "execution_count": 211,
      "outputs": []
    },
    {
      "cell_type": "code",
      "source": [
        "#Ridge com com margem de erro de 10%\n",
        "len(y_test[(10*abs(y_test['valor_predicao_liquido']/100))>=abs(y_test['valor_predicao_liquido']-y_test['valor_predito'])])"
      ],
      "metadata": {
        "colab": {
          "base_uri": "https://localhost:8080/"
        },
        "id": "PJ3HEx2bBpjO",
        "outputId": "5a492d51-8314-490e-c8ea-a97fdeaa14bf"
      },
      "execution_count": 213,
      "outputs": [
        {
          "output_type": "execute_result",
          "data": {
            "text/plain": [
              "670"
            ]
          },
          "metadata": {},
          "execution_count": 213
        }
      ]
    },
    {
      "cell_type": "code",
      "source": [
        "#Ridge com margem de erro de 20%\n",
        "len(y_test[(20*abs(y_test['valor_predicao_liquido']/100))>=abs(y_test['valor_predicao_liquido']-y_test['valor_predito'])])"
      ],
      "metadata": {
        "colab": {
          "base_uri": "https://localhost:8080/"
        },
        "id": "mBIPjp_kEOuj",
        "outputId": "8354d472-32b4-48e0-e01b-9592d4942300"
      },
      "execution_count": 214,
      "outputs": [
        {
          "output_type": "execute_result",
          "data": {
            "text/plain": [
              "1117"
            ]
          },
          "metadata": {},
          "execution_count": 214
        }
      ]
    },
    {
      "cell_type": "code",
      "source": [
        "x_train, x_test, y_train, y_test = train_test_split(X, Y_regressao, test_size=0.2)"
      ],
      "metadata": {
        "id": "bvrVlrKXCBb4"
      },
      "execution_count": 247,
      "outputs": []
    },
    {
      "cell_type": "code",
      "source": [
        "from sklearn.linear_model import Lasso\n",
        "\n",
        "lasso = Lasso().fit(x_train, y_train)\n",
        "pred = lasso.predict(x_test)\n",
        "print(\"Lasso alpha=1\")\n",
        "print(\"Erro quadrÃ¡tico MÃ©dio = \",mean_squared_error(y_test, pred)) #Erro quadrático médio\n",
        "print(\"R2 =\", r2_score(y_test, pred)) #Coeficiente de determinação\n",
        "print(\"Número de atributos usados: {}\".format(np.sum(lasso.coef_ != 0)))\n",
        "\n",
        "\n",
        "lasso001 = Lasso(alpha=0.01, max_iter=100000).fit(x_train, y_train)\n",
        "pred = lasso001.predict(x_test)\n",
        "print(\"Lasso alpha=.01\")\n",
        "\n",
        "print(\"Erro quadrÃ¡tico MÃ©dio = \",mean_squared_error(y_test, pred)) #Erro quadrático médio\n",
        "print(\"R2 =\", r2_score(y_test, pred)) #Coeficiente de determinação\n",
        "print(\"Número de atributos usados: {}\".format(np.sum(lasso001.coef_ != 0)))\n",
        "\n",
        "\n",
        "lasso00001 = Lasso(alpha=0.0001, max_iter=100000).fit(x_train, y_train)\n",
        "pred = lasso00001.predict(x_test)\n",
        "print(\"Lasso alpha=.0001\")\n",
        "print(\"Erro quadrÃ¡tico MÃ©dio = \",mean_squared_error(y_test, pred)) #Erro quadrático médio\n",
        "print(\"R2 =\", r2_score(y_test, pred)) #Coeficiente de determinação\n",
        "print(\"Número de atributos usados: {}\".format(np.sum(lasso00001.coef_ != 0)))\n"
      ],
      "metadata": {
        "colab": {
          "base_uri": "https://localhost:8080/"
        },
        "id": "dg_HShF3Eu3p",
        "outputId": "3d308359-1746-4c50-ad10-9e2258a7ea24"
      },
      "execution_count": 250,
      "outputs": [
        {
          "output_type": "stream",
          "name": "stdout",
          "text": [
            "Lasso alpha=1\n",
            "Erro quadrÃ¡tico MÃ©dio =  1149160.5777263104\n",
            "R2 = 0.9967071527441639\n",
            "Número de atributos usados: 6\n",
            "Lasso alpha=.01\n",
            "Erro quadrÃ¡tico MÃ©dio =  1158415.4117383966\n",
            "R2 = 0.9966806336002161\n",
            "Número de atributos usados: 6\n",
            "Lasso alpha=.0001\n",
            "Erro quadrÃ¡tico MÃ©dio =  1158512.1438790841\n",
            "R2 = 0.9966803564203596\n",
            "Número de atributos usados: 6\n"
          ]
        }
      ]
    },
    {
      "cell_type": "code",
      "source": [
        "lasso = Lasso().fit(x_train, y_train)\n",
        "pred = lasso.predict(x_test)\n",
        "print(\"Lasso alpha=1\")\n",
        "print(\"Erro quadrÃ¡tico MÃ©dio = \",mean_squared_error(y_test, pred)) #Erro quadrático médio\n",
        "print(\"R2 =\", r2_score(y_test, pred)) #Coeficiente de determinação\n",
        "print(\"Número de atributos usados: {}\".format(np.sum(lasso.coef_ != 0)))"
      ],
      "metadata": {
        "colab": {
          "base_uri": "https://localhost:8080/"
        },
        "id": "U9C_qMGNHORX",
        "outputId": "eba45bb2-7cb8-43ac-ba62-1320c811c583"
      },
      "execution_count": 251,
      "outputs": [
        {
          "output_type": "stream",
          "name": "stdout",
          "text": [
            "Lasso alpha=1\n",
            "Erro quadrÃ¡tico MÃ©dio =  1149160.5777263104\n",
            "R2 = 0.9967071527441639\n",
            "Número de atributos usados: 6\n"
          ]
        }
      ]
    },
    {
      "cell_type": "code",
      "source": [
        "y_test['valor_predito']=pred"
      ],
      "metadata": {
        "id": "0fVQjHz3FT_O"
      },
      "execution_count": 252,
      "outputs": []
    },
    {
      "cell_type": "code",
      "source": [
        "#Com margem de erro de 10%\n",
        "len(y_test[(10*abs(y_test['valor_predicao_liquido']/100))>=abs(y_test['valor_predicao_liquido']-y_test['valor_predito'])])"
      ],
      "metadata": {
        "colab": {
          "base_uri": "https://localhost:8080/"
        },
        "id": "QmJT8sfFFZec",
        "outputId": "1be16b46-448b-4453-c17d-3d6d15e40b23"
      },
      "execution_count": 253,
      "outputs": [
        {
          "output_type": "execute_result",
          "data": {
            "text/plain": [
              "724"
            ]
          },
          "metadata": {},
          "execution_count": 253
        }
      ]
    }
  ],
  "metadata": {
    "colab": {
      "provenance": []
    },
    "kernelspec": {
      "display_name": "Python 3",
      "name": "python3"
    },
    "language_info": {
      "name": "python"
    }
  },
  "nbformat": 4,
  "nbformat_minor": 0
}