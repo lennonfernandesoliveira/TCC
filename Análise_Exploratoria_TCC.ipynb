{
  "cells": [
    {
      "cell_type": "code",
      "execution_count": null,
      "metadata": {
        "colab": {
          "base_uri": "https://localhost:8080/"
        },
        "id": "cVLnDDmUv-Jv",
        "outputId": "16ad1215-f988-4507-d60c-19836f3f5441"
      },
      "outputs": [
        {
          "output_type": "stream",
          "name": "stdout",
          "text": [
            "Looking in indexes: https://pypi.org/simple, https://us-python.pkg.dev/colab-wheels/public/simple/\n",
            "Requirement already satisfied: pydotplus in /usr/local/lib/python3.7/dist-packages (2.0.2)\n",
            "Requirement already satisfied: pyparsing>=2.0.1 in /usr/local/lib/python3.7/dist-packages (from pydotplus) (3.0.9)\n",
            "Looking in indexes: https://pypi.org/simple, https://us-python.pkg.dev/colab-wheels/public/simple/\n",
            "Collecting dtreeviz\n",
            "  Downloading dtreeviz-1.3.7.tar.gz (62 kB)\n",
            "\u001b[K     |████████████████████████████████| 62 kB 714 kB/s \n",
            "\u001b[?25hRequirement already satisfied: graphviz>=0.9 in /usr/local/lib/python3.7/dist-packages (from dtreeviz) (0.10.1)\n",
            "Requirement already satisfied: pandas in /usr/local/lib/python3.7/dist-packages (from dtreeviz) (1.3.5)\n",
            "Requirement already satisfied: numpy in /usr/local/lib/python3.7/dist-packages (from dtreeviz) (1.21.6)\n",
            "Requirement already satisfied: scikit-learn in /usr/local/lib/python3.7/dist-packages (from dtreeviz) (1.0.2)\n",
            "Requirement already satisfied: matplotlib in /usr/local/lib/python3.7/dist-packages (from dtreeviz) (3.2.2)\n",
            "Collecting colour\n",
            "  Downloading colour-0.1.5-py2.py3-none-any.whl (23 kB)\n",
            "Requirement already satisfied: pytest in /usr/local/lib/python3.7/dist-packages (from dtreeviz) (3.6.4)\n",
            "Requirement already satisfied: pyparsing!=2.0.4,!=2.1.2,!=2.1.6,>=2.0.1 in /usr/local/lib/python3.7/dist-packages (from matplotlib->dtreeviz) (3.0.9)\n",
            "Requirement already satisfied: cycler>=0.10 in /usr/local/lib/python3.7/dist-packages (from matplotlib->dtreeviz) (0.11.0)\n",
            "Requirement already satisfied: python-dateutil>=2.1 in /usr/local/lib/python3.7/dist-packages (from matplotlib->dtreeviz) (2.8.2)\n",
            "Requirement already satisfied: kiwisolver>=1.0.1 in /usr/local/lib/python3.7/dist-packages (from matplotlib->dtreeviz) (1.4.4)\n",
            "Requirement already satisfied: typing-extensions in /usr/local/lib/python3.7/dist-packages (from kiwisolver>=1.0.1->matplotlib->dtreeviz) (4.1.1)\n",
            "Requirement already satisfied: six>=1.5 in /usr/local/lib/python3.7/dist-packages (from python-dateutil>=2.1->matplotlib->dtreeviz) (1.15.0)\n",
            "Requirement already satisfied: pytz>=2017.3 in /usr/local/lib/python3.7/dist-packages (from pandas->dtreeviz) (2022.2.1)\n",
            "Requirement already satisfied: atomicwrites>=1.0 in /usr/local/lib/python3.7/dist-packages (from pytest->dtreeviz) (1.4.1)\n",
            "Requirement already satisfied: pluggy<0.8,>=0.5 in /usr/local/lib/python3.7/dist-packages (from pytest->dtreeviz) (0.7.1)\n",
            "Requirement already satisfied: setuptools in /usr/local/lib/python3.7/dist-packages (from pytest->dtreeviz) (57.4.0)\n",
            "Requirement already satisfied: more-itertools>=4.0.0 in /usr/local/lib/python3.7/dist-packages (from pytest->dtreeviz) (8.14.0)\n",
            "Requirement already satisfied: py>=1.5.0 in /usr/local/lib/python3.7/dist-packages (from pytest->dtreeviz) (1.11.0)\n",
            "Requirement already satisfied: attrs>=17.4.0 in /usr/local/lib/python3.7/dist-packages (from pytest->dtreeviz) (22.1.0)\n",
            "Requirement already satisfied: scipy>=1.1.0 in /usr/local/lib/python3.7/dist-packages (from scikit-learn->dtreeviz) (1.7.3)\n",
            "Requirement already satisfied: joblib>=0.11 in /usr/local/lib/python3.7/dist-packages (from scikit-learn->dtreeviz) (1.1.0)\n",
            "Requirement already satisfied: threadpoolctl>=2.0.0 in /usr/local/lib/python3.7/dist-packages (from scikit-learn->dtreeviz) (3.1.0)\n",
            "Building wheels for collected packages: dtreeviz\n",
            "  Building wheel for dtreeviz (setup.py) ... \u001b[?25l\u001b[?25hdone\n",
            "  Created wheel for dtreeviz: filename=dtreeviz-1.3.7-py3-none-any.whl size=68151 sha256=8fc5bfa61ef8553089f6427cddc49feab6cc66f9ec41effbfd11d86f5d378149\n",
            "  Stored in directory: /root/.cache/pip/wheels/bf/ba/9f/87c689d8d3c2916793f2dccc57d3dc3b283e0ccf8cb4ca4cad\n",
            "Successfully built dtreeviz\n",
            "Installing collected packages: colour, dtreeviz\n",
            "Successfully installed colour-0.1.5 dtreeviz-1.3.7\n"
          ]
        }
      ],
      "source": [
        "!pip install pydotplus\n",
        "!pip install dtreeviz"
      ]
    },
    {
      "cell_type": "code",
      "execution_count": null,
      "metadata": {
        "id": "yX1hoAwaCTDo"
      },
      "outputs": [],
      "source": [
        "import numpy as np\n",
        "import pandas as pd\n",
        "import matplotlib.pyplot as plt\n",
        "import seaborn as sns\n",
        "from sklearn.model_selection import train_test_split\n",
        "from sklearn import preprocessing\n",
        "from sklearn.naive_bayes import GaussianNB\n",
        "from sklearn.metrics import confusion_matrix, classification_report\n",
        "from sklearn import preprocessing\n",
        "from statistics import mode\n"
      ]
    },
    {
      "cell_type": "code",
      "execution_count": null,
      "metadata": {
        "id": "HF80bpXCCi4z"
      },
      "outputs": [],
      "source": [
        "from sklearn import datasets, tree\n",
        "from sklearn.model_selection import train_test_split\n",
        "from sklearn.tree import DecisionTreeClassifier\n",
        "from sklearn.metrics import accuracy_score, classification_report, confusion_matrix\n",
        "from sklearn.feature_extraction import DictVectorizer\n",
        "from sklearn.preprocessing import LabelEncoder"
      ]
    },
    {
      "cell_type": "code",
      "execution_count": null,
      "metadata": {
        "id": "AlsMyiBCAgrI"
      },
      "outputs": [],
      "source": [
        "from scipy.stats import normaltest"
      ]
    },
    {
      "cell_type": "code",
      "execution_count": null,
      "metadata": {
        "colab": {
          "base_uri": "https://localhost:8080/",
          "height": 73
        },
        "id": "RGO9uZPlwC9P",
        "outputId": "858ef8e8-22bd-4615-b5b4-1bde4aaea9f0"
      },
      "outputs": [
        {
          "output_type": "display_data",
          "data": {
            "text/plain": [
              "<IPython.core.display.HTML object>"
            ],
            "text/html": [
              "\n",
              "     <input type=\"file\" id=\"files-5145f728-2db6-42dc-bb8d-f57fe8e00f50\" name=\"files[]\" multiple disabled\n",
              "        style=\"border:none\" />\n",
              "     <output id=\"result-5145f728-2db6-42dc-bb8d-f57fe8e00f50\">\n",
              "      Upload widget is only available when the cell has been executed in the\n",
              "      current browser session. Please rerun this cell to enable.\n",
              "      </output>\n",
              "      <script>// Copyright 2017 Google LLC\n",
              "//\n",
              "// Licensed under the Apache License, Version 2.0 (the \"License\");\n",
              "// you may not use this file except in compliance with the License.\n",
              "// You may obtain a copy of the License at\n",
              "//\n",
              "//      http://www.apache.org/licenses/LICENSE-2.0\n",
              "//\n",
              "// Unless required by applicable law or agreed to in writing, software\n",
              "// distributed under the License is distributed on an \"AS IS\" BASIS,\n",
              "// WITHOUT WARRANTIES OR CONDITIONS OF ANY KIND, either express or implied.\n",
              "// See the License for the specific language governing permissions and\n",
              "// limitations under the License.\n",
              "\n",
              "/**\n",
              " * @fileoverview Helpers for google.colab Python module.\n",
              " */\n",
              "(function(scope) {\n",
              "function span(text, styleAttributes = {}) {\n",
              "  const element = document.createElement('span');\n",
              "  element.textContent = text;\n",
              "  for (const key of Object.keys(styleAttributes)) {\n",
              "    element.style[key] = styleAttributes[key];\n",
              "  }\n",
              "  return element;\n",
              "}\n",
              "\n",
              "// Max number of bytes which will be uploaded at a time.\n",
              "const MAX_PAYLOAD_SIZE = 100 * 1024;\n",
              "\n",
              "function _uploadFiles(inputId, outputId) {\n",
              "  const steps = uploadFilesStep(inputId, outputId);\n",
              "  const outputElement = document.getElementById(outputId);\n",
              "  // Cache steps on the outputElement to make it available for the next call\n",
              "  // to uploadFilesContinue from Python.\n",
              "  outputElement.steps = steps;\n",
              "\n",
              "  return _uploadFilesContinue(outputId);\n",
              "}\n",
              "\n",
              "// This is roughly an async generator (not supported in the browser yet),\n",
              "// where there are multiple asynchronous steps and the Python side is going\n",
              "// to poll for completion of each step.\n",
              "// This uses a Promise to block the python side on completion of each step,\n",
              "// then passes the result of the previous step as the input to the next step.\n",
              "function _uploadFilesContinue(outputId) {\n",
              "  const outputElement = document.getElementById(outputId);\n",
              "  const steps = outputElement.steps;\n",
              "\n",
              "  const next = steps.next(outputElement.lastPromiseValue);\n",
              "  return Promise.resolve(next.value.promise).then((value) => {\n",
              "    // Cache the last promise value to make it available to the next\n",
              "    // step of the generator.\n",
              "    outputElement.lastPromiseValue = value;\n",
              "    return next.value.response;\n",
              "  });\n",
              "}\n",
              "\n",
              "/**\n",
              " * Generator function which is called between each async step of the upload\n",
              " * process.\n",
              " * @param {string} inputId Element ID of the input file picker element.\n",
              " * @param {string} outputId Element ID of the output display.\n",
              " * @return {!Iterable<!Object>} Iterable of next steps.\n",
              " */\n",
              "function* uploadFilesStep(inputId, outputId) {\n",
              "  const inputElement = document.getElementById(inputId);\n",
              "  inputElement.disabled = false;\n",
              "\n",
              "  const outputElement = document.getElementById(outputId);\n",
              "  outputElement.innerHTML = '';\n",
              "\n",
              "  const pickedPromise = new Promise((resolve) => {\n",
              "    inputElement.addEventListener('change', (e) => {\n",
              "      resolve(e.target.files);\n",
              "    });\n",
              "  });\n",
              "\n",
              "  const cancel = document.createElement('button');\n",
              "  inputElement.parentElement.appendChild(cancel);\n",
              "  cancel.textContent = 'Cancel upload';\n",
              "  const cancelPromise = new Promise((resolve) => {\n",
              "    cancel.onclick = () => {\n",
              "      resolve(null);\n",
              "    };\n",
              "  });\n",
              "\n",
              "  // Wait for the user to pick the files.\n",
              "  const files = yield {\n",
              "    promise: Promise.race([pickedPromise, cancelPromise]),\n",
              "    response: {\n",
              "      action: 'starting',\n",
              "    }\n",
              "  };\n",
              "\n",
              "  cancel.remove();\n",
              "\n",
              "  // Disable the input element since further picks are not allowed.\n",
              "  inputElement.disabled = true;\n",
              "\n",
              "  if (!files) {\n",
              "    return {\n",
              "      response: {\n",
              "        action: 'complete',\n",
              "      }\n",
              "    };\n",
              "  }\n",
              "\n",
              "  for (const file of files) {\n",
              "    const li = document.createElement('li');\n",
              "    li.append(span(file.name, {fontWeight: 'bold'}));\n",
              "    li.append(span(\n",
              "        `(${file.type || 'n/a'}) - ${file.size} bytes, ` +\n",
              "        `last modified: ${\n",
              "            file.lastModifiedDate ? file.lastModifiedDate.toLocaleDateString() :\n",
              "                                    'n/a'} - `));\n",
              "    const percent = span('0% done');\n",
              "    li.appendChild(percent);\n",
              "\n",
              "    outputElement.appendChild(li);\n",
              "\n",
              "    const fileDataPromise = new Promise((resolve) => {\n",
              "      const reader = new FileReader();\n",
              "      reader.onload = (e) => {\n",
              "        resolve(e.target.result);\n",
              "      };\n",
              "      reader.readAsArrayBuffer(file);\n",
              "    });\n",
              "    // Wait for the data to be ready.\n",
              "    let fileData = yield {\n",
              "      promise: fileDataPromise,\n",
              "      response: {\n",
              "        action: 'continue',\n",
              "      }\n",
              "    };\n",
              "\n",
              "    // Use a chunked sending to avoid message size limits. See b/62115660.\n",
              "    let position = 0;\n",
              "    do {\n",
              "      const length = Math.min(fileData.byteLength - position, MAX_PAYLOAD_SIZE);\n",
              "      const chunk = new Uint8Array(fileData, position, length);\n",
              "      position += length;\n",
              "\n",
              "      const base64 = btoa(String.fromCharCode.apply(null, chunk));\n",
              "      yield {\n",
              "        response: {\n",
              "          action: 'append',\n",
              "          file: file.name,\n",
              "          data: base64,\n",
              "        },\n",
              "      };\n",
              "\n",
              "      let percentDone = fileData.byteLength === 0 ?\n",
              "          100 :\n",
              "          Math.round((position / fileData.byteLength) * 100);\n",
              "      percent.textContent = `${percentDone}% done`;\n",
              "\n",
              "    } while (position < fileData.byteLength);\n",
              "  }\n",
              "\n",
              "  // All done.\n",
              "  yield {\n",
              "    response: {\n",
              "      action: 'complete',\n",
              "    }\n",
              "  };\n",
              "}\n",
              "\n",
              "scope.google = scope.google || {};\n",
              "scope.google.colab = scope.google.colab || {};\n",
              "scope.google.colab._files = {\n",
              "  _uploadFiles,\n",
              "  _uploadFilesContinue,\n",
              "};\n",
              "})(self);\n",
              "</script> "
            ]
          },
          "metadata": {}
        },
        {
          "output_type": "stream",
          "name": "stdout",
          "text": [
            "Saving bdpredicao.xlsx to bdpredicao.xlsx\n"
          ]
        }
      ],
      "source": [
        "from google.colab import files\n",
        "\n",
        "uploaded = files.upload()"
      ]
    },
    {
      "cell_type": "code",
      "execution_count": null,
      "metadata": {
        "id": "eKdeT0OZwFJx"
      },
      "outputs": [],
      "source": [
        "df = pd.read_excel(next(iter(uploaded.keys())))\n"
      ]
    },
    {
      "cell_type": "code",
      "execution_count": null,
      "metadata": {
        "id": "T9lBSSsQwYN_"
      },
      "outputs": [],
      "source": [
        "\n",
        "\n",
        "le = preprocessing.LabelEncoder()\n"
      ]
    },
    {
      "cell_type": "code",
      "execution_count": null,
      "metadata": {
        "id": "3ligcdeYhtYp",
        "colab": {
          "base_uri": "https://localhost:8080/"
        },
        "outputId": "ff923809-8c85-4fb9-f391-f11c2bfc4e1f"
      },
      "outputs": [
        {
          "output_type": "execute_result",
          "data": {
            "text/plain": [
              "0"
            ]
          },
          "metadata": {},
          "execution_count": 8
        }
      ],
      "source": [
        "df['pf_ou_pj'].isnull().sum()\n"
      ]
    },
    {
      "cell_type": "code",
      "execution_count": null,
      "metadata": {
        "id": "IDJzYfKfmbYE",
        "colab": {
          "base_uri": "https://localhost:8080/"
        },
        "outputId": "aa421911-072f-4ad5-abaa-540b778481fd"
      },
      "outputs": [
        {
          "output_type": "execute_result",
          "data": {
            "text/plain": [
              "0"
            ]
          },
          "metadata": {},
          "execution_count": 9
        }
      ],
      "source": [
        "df['competencia'].isnull().sum()"
      ]
    },
    {
      "cell_type": "markdown",
      "metadata": {
        "id": "e6D-JIbEttXU"
      },
      "source": [
        "Registros sem nacionalidade foram setados com a moda "
      ]
    },
    {
      "cell_type": "code",
      "execution_count": null,
      "metadata": {
        "id": "6tHJ0uKtmewl"
      },
      "outputs": [],
      "source": [
        "df['nacionalidade'].fillna(('Brasileiro(a)'), inplace=True)"
      ]
    },
    {
      "cell_type": "code",
      "execution_count": null,
      "metadata": {
        "id": "9vu3GYMRkLWo"
      },
      "outputs": [],
      "source": [
        "df['especialidade'].fillna(('Sem Especialidade'), inplace=True)\n"
      ]
    },
    {
      "cell_type": "code",
      "execution_count": null,
      "metadata": {
        "id": "lMCBbLPhnQSu",
        "colab": {
          "base_uri": "https://localhost:8080/"
        },
        "outputId": "133a12c4-8825-4f35-b333-40af8106912b"
      },
      "outputs": [
        {
          "output_type": "execute_result",
          "data": {
            "text/plain": [
              "0"
            ]
          },
          "metadata": {},
          "execution_count": 12
        }
      ],
      "source": [
        "df['situacao_epoca_do_repasse'].isnull().sum()"
      ]
    },
    {
      "cell_type": "code",
      "execution_count": null,
      "metadata": {
        "id": "0pDVkj9HmPTH",
        "colab": {
          "base_uri": "https://localhost:8080/"
        },
        "outputId": "7ff7149c-0cfa-4901-b620-f84d0b5edf10"
      },
      "outputs": [
        {
          "output_type": "execute_result",
          "data": {
            "text/plain": [
              "5436"
            ]
          },
          "metadata": {},
          "execution_count": 13
        }
      ],
      "source": [
        "df['hospital'].isnull().sum()"
      ]
    },
    {
      "cell_type": "code",
      "execution_count": null,
      "metadata": {
        "id": "zOVArWpJkOuc"
      },
      "outputs": [],
      "source": [
        "df['hospital'].fillna(('Sem Hospital'), inplace=True)"
      ]
    },
    {
      "cell_type": "code",
      "execution_count": null,
      "metadata": {
        "id": "cGfsjIjZn9ro"
      },
      "outputs": [],
      "source": [
        "df['estado_civil'].fillna(('Sem'), inplace=True)"
      ]
    },
    {
      "cell_type": "markdown",
      "metadata": {
        "id": "R5MzSzMZt44o"
      },
      "source": [
        "Registros sem grau de instrução se referem a cadastros de empresas.\n",
        "Será adotado um ítem pj nesse caso."
      ]
    },
    {
      "cell_type": "code",
      "execution_count": null,
      "metadata": {
        "id": "TmFySh6fpslg"
      },
      "outputs": [],
      "source": [
        "\n",
        "df['grau_instrucao'].fillna(('pj'), inplace=True)"
      ]
    },
    {
      "cell_type": "code",
      "execution_count": null,
      "metadata": {
        "id": "6P7z9kepdy6n"
      },
      "outputs": [],
      "source": [
        "df_grafico = df.copy()"
      ]
    },
    {
      "cell_type": "code",
      "execution_count": null,
      "metadata": {
        "id": "-0iUtJFUV0Xp"
      },
      "outputs": [],
      "source": [
        "def generate_labelencoder(atts):\n",
        "  for attr in atts:\n",
        "    df_grafico[attr] = le.fit_transform(df_grafico[attr])\n",
        "  return df_grafico"
      ]
    },
    {
      "cell_type": "code",
      "execution_count": null,
      "metadata": {
        "id": "Hip9ZnnNUkX6"
      },
      "outputs": [],
      "source": [
        "\n",
        "df_grafico  = generate_labelencoder(['pf_ou_pj','grau_instrucao','competencia','hospital','especialidade','estado_civil','nacionalidade','situacao_epoca_do_repasse'])"
      ]
    },
    {
      "cell_type": "code",
      "execution_count": null,
      "metadata": {
        "id": "wL5nMBjEu9Td"
      },
      "outputs": [],
      "source": [
        "df_grafico = df_grafico.drop(['id_cooperado'], axis=1)"
      ]
    },
    {
      "cell_type": "code",
      "execution_count": null,
      "metadata": {
        "id": "g8BKF9BHehBB",
        "colab": {
          "base_uri": "https://localhost:8080/",
          "height": 488
        },
        "outputId": "fed2f172-1c66-40a6-c78f-ca32de3aaafe"
      },
      "outputs": [
        {
          "output_type": "execute_result",
          "data": {
            "text/plain": [
              "       pf_ou_pj  especialidade  competencia  nacionalidade  \\\n",
              "0             0             27            0              2   \n",
              "1             0             27            1              2   \n",
              "2             0             27            2              2   \n",
              "3             0             27            3              2   \n",
              "4             0             27            4              2   \n",
              "...         ...            ...          ...            ...   \n",
              "74479         0             43           13              2   \n",
              "74480         0             43           14              2   \n",
              "74481         0             43           15              2   \n",
              "74482         0             43           16              2   \n",
              "74483         0             43           17              2   \n",
              "\n",
              "       situacao_epoca_do_repasse  hospital  estado_civil  grau_instrucao  \\\n",
              "0                              6        11             6               2   \n",
              "1                              6        11             6               2   \n",
              "2                              6        11             6               2   \n",
              "3                              6        11             6               2   \n",
              "4                              6        11             6               2   \n",
              "...                          ...       ...           ...             ...   \n",
              "74479                          0         5             0               2   \n",
              "74480                          0         5             0               2   \n",
              "74481                          0         5             0               2   \n",
              "74482                          0         5             0               2   \n",
              "74483                          0         5             0               2   \n",
              "\n",
              "       cooperado_origem_de_conversao  cooperado_destino_de_conversao  \\\n",
              "0                                  0                               0   \n",
              "1                                  0                               0   \n",
              "2                                  0                               0   \n",
              "3                                  0                               0   \n",
              "4                                  0                               0   \n",
              "...                              ...                             ...   \n",
              "74479                              0                               0   \n",
              "74480                              0                               0   \n",
              "74481                              0                               0   \n",
              "74482                              0                               0   \n",
              "74483                              0                               0   \n",
              "\n",
              "       participa_servico_especial  valor_procedimento_a_repassar  \\\n",
              "0                               0                            0.0   \n",
              "1                               0                            0.0   \n",
              "2                               0                            0.0   \n",
              "3                               0                            0.0   \n",
              "4                               0                            0.0   \n",
              "...                           ...                            ...   \n",
              "74479                           0                            0.0   \n",
              "74480                           0                            0.0   \n",
              "74481                           0                            0.0   \n",
              "74482                           0                            0.0   \n",
              "74483                           0                            0.0   \n",
              "\n",
              "       valor_lancamento_eventual_a_repassar  valor_predicao_liquido  \n",
              "0                                       0.0                     0.0  \n",
              "1                                       0.0                     0.0  \n",
              "2                                       0.0                     0.0  \n",
              "3                                       0.0                     0.0  \n",
              "4                                       0.0                     0.0  \n",
              "...                                     ...                     ...  \n",
              "74479                                   0.0                     0.0  \n",
              "74480                                   0.0                     0.0  \n",
              "74481                                   0.0                     0.0  \n",
              "74482                                   0.0                     0.0  \n",
              "74483                                   0.0                     0.0  \n",
              "\n",
              "[74484 rows x 14 columns]"
            ],
            "text/html": [
              "\n",
              "  <div id=\"df-ea5b83a6-cd69-4550-8870-dedc9f53f564\">\n",
              "    <div class=\"colab-df-container\">\n",
              "      <div>\n",
              "<style scoped>\n",
              "    .dataframe tbody tr th:only-of-type {\n",
              "        vertical-align: middle;\n",
              "    }\n",
              "\n",
              "    .dataframe tbody tr th {\n",
              "        vertical-align: top;\n",
              "    }\n",
              "\n",
              "    .dataframe thead th {\n",
              "        text-align: right;\n",
              "    }\n",
              "</style>\n",
              "<table border=\"1\" class=\"dataframe\">\n",
              "  <thead>\n",
              "    <tr style=\"text-align: right;\">\n",
              "      <th></th>\n",
              "      <th>pf_ou_pj</th>\n",
              "      <th>especialidade</th>\n",
              "      <th>competencia</th>\n",
              "      <th>nacionalidade</th>\n",
              "      <th>situacao_epoca_do_repasse</th>\n",
              "      <th>hospital</th>\n",
              "      <th>estado_civil</th>\n",
              "      <th>grau_instrucao</th>\n",
              "      <th>cooperado_origem_de_conversao</th>\n",
              "      <th>cooperado_destino_de_conversao</th>\n",
              "      <th>participa_servico_especial</th>\n",
              "      <th>valor_procedimento_a_repassar</th>\n",
              "      <th>valor_lancamento_eventual_a_repassar</th>\n",
              "      <th>valor_predicao_liquido</th>\n",
              "    </tr>\n",
              "  </thead>\n",
              "  <tbody>\n",
              "    <tr>\n",
              "      <th>0</th>\n",
              "      <td>0</td>\n",
              "      <td>27</td>\n",
              "      <td>0</td>\n",
              "      <td>2</td>\n",
              "      <td>6</td>\n",
              "      <td>11</td>\n",
              "      <td>6</td>\n",
              "      <td>2</td>\n",
              "      <td>0</td>\n",
              "      <td>0</td>\n",
              "      <td>0</td>\n",
              "      <td>0.0</td>\n",
              "      <td>0.0</td>\n",
              "      <td>0.0</td>\n",
              "    </tr>\n",
              "    <tr>\n",
              "      <th>1</th>\n",
              "      <td>0</td>\n",
              "      <td>27</td>\n",
              "      <td>1</td>\n",
              "      <td>2</td>\n",
              "      <td>6</td>\n",
              "      <td>11</td>\n",
              "      <td>6</td>\n",
              "      <td>2</td>\n",
              "      <td>0</td>\n",
              "      <td>0</td>\n",
              "      <td>0</td>\n",
              "      <td>0.0</td>\n",
              "      <td>0.0</td>\n",
              "      <td>0.0</td>\n",
              "    </tr>\n",
              "    <tr>\n",
              "      <th>2</th>\n",
              "      <td>0</td>\n",
              "      <td>27</td>\n",
              "      <td>2</td>\n",
              "      <td>2</td>\n",
              "      <td>6</td>\n",
              "      <td>11</td>\n",
              "      <td>6</td>\n",
              "      <td>2</td>\n",
              "      <td>0</td>\n",
              "      <td>0</td>\n",
              "      <td>0</td>\n",
              "      <td>0.0</td>\n",
              "      <td>0.0</td>\n",
              "      <td>0.0</td>\n",
              "    </tr>\n",
              "    <tr>\n",
              "      <th>3</th>\n",
              "      <td>0</td>\n",
              "      <td>27</td>\n",
              "      <td>3</td>\n",
              "      <td>2</td>\n",
              "      <td>6</td>\n",
              "      <td>11</td>\n",
              "      <td>6</td>\n",
              "      <td>2</td>\n",
              "      <td>0</td>\n",
              "      <td>0</td>\n",
              "      <td>0</td>\n",
              "      <td>0.0</td>\n",
              "      <td>0.0</td>\n",
              "      <td>0.0</td>\n",
              "    </tr>\n",
              "    <tr>\n",
              "      <th>4</th>\n",
              "      <td>0</td>\n",
              "      <td>27</td>\n",
              "      <td>4</td>\n",
              "      <td>2</td>\n",
              "      <td>6</td>\n",
              "      <td>11</td>\n",
              "      <td>6</td>\n",
              "      <td>2</td>\n",
              "      <td>0</td>\n",
              "      <td>0</td>\n",
              "      <td>0</td>\n",
              "      <td>0.0</td>\n",
              "      <td>0.0</td>\n",
              "      <td>0.0</td>\n",
              "    </tr>\n",
              "    <tr>\n",
              "      <th>...</th>\n",
              "      <td>...</td>\n",
              "      <td>...</td>\n",
              "      <td>...</td>\n",
              "      <td>...</td>\n",
              "      <td>...</td>\n",
              "      <td>...</td>\n",
              "      <td>...</td>\n",
              "      <td>...</td>\n",
              "      <td>...</td>\n",
              "      <td>...</td>\n",
              "      <td>...</td>\n",
              "      <td>...</td>\n",
              "      <td>...</td>\n",
              "      <td>...</td>\n",
              "    </tr>\n",
              "    <tr>\n",
              "      <th>74479</th>\n",
              "      <td>0</td>\n",
              "      <td>43</td>\n",
              "      <td>13</td>\n",
              "      <td>2</td>\n",
              "      <td>0</td>\n",
              "      <td>5</td>\n",
              "      <td>0</td>\n",
              "      <td>2</td>\n",
              "      <td>0</td>\n",
              "      <td>0</td>\n",
              "      <td>0</td>\n",
              "      <td>0.0</td>\n",
              "      <td>0.0</td>\n",
              "      <td>0.0</td>\n",
              "    </tr>\n",
              "    <tr>\n",
              "      <th>74480</th>\n",
              "      <td>0</td>\n",
              "      <td>43</td>\n",
              "      <td>14</td>\n",
              "      <td>2</td>\n",
              "      <td>0</td>\n",
              "      <td>5</td>\n",
              "      <td>0</td>\n",
              "      <td>2</td>\n",
              "      <td>0</td>\n",
              "      <td>0</td>\n",
              "      <td>0</td>\n",
              "      <td>0.0</td>\n",
              "      <td>0.0</td>\n",
              "      <td>0.0</td>\n",
              "    </tr>\n",
              "    <tr>\n",
              "      <th>74481</th>\n",
              "      <td>0</td>\n",
              "      <td>43</td>\n",
              "      <td>15</td>\n",
              "      <td>2</td>\n",
              "      <td>0</td>\n",
              "      <td>5</td>\n",
              "      <td>0</td>\n",
              "      <td>2</td>\n",
              "      <td>0</td>\n",
              "      <td>0</td>\n",
              "      <td>0</td>\n",
              "      <td>0.0</td>\n",
              "      <td>0.0</td>\n",
              "      <td>0.0</td>\n",
              "    </tr>\n",
              "    <tr>\n",
              "      <th>74482</th>\n",
              "      <td>0</td>\n",
              "      <td>43</td>\n",
              "      <td>16</td>\n",
              "      <td>2</td>\n",
              "      <td>0</td>\n",
              "      <td>5</td>\n",
              "      <td>0</td>\n",
              "      <td>2</td>\n",
              "      <td>0</td>\n",
              "      <td>0</td>\n",
              "      <td>0</td>\n",
              "      <td>0.0</td>\n",
              "      <td>0.0</td>\n",
              "      <td>0.0</td>\n",
              "    </tr>\n",
              "    <tr>\n",
              "      <th>74483</th>\n",
              "      <td>0</td>\n",
              "      <td>43</td>\n",
              "      <td>17</td>\n",
              "      <td>2</td>\n",
              "      <td>0</td>\n",
              "      <td>5</td>\n",
              "      <td>0</td>\n",
              "      <td>2</td>\n",
              "      <td>0</td>\n",
              "      <td>0</td>\n",
              "      <td>0</td>\n",
              "      <td>0.0</td>\n",
              "      <td>0.0</td>\n",
              "      <td>0.0</td>\n",
              "    </tr>\n",
              "  </tbody>\n",
              "</table>\n",
              "<p>74484 rows × 14 columns</p>\n",
              "</div>\n",
              "      <button class=\"colab-df-convert\" onclick=\"convertToInteractive('df-ea5b83a6-cd69-4550-8870-dedc9f53f564')\"\n",
              "              title=\"Convert this dataframe to an interactive table.\"\n",
              "              style=\"display:none;\">\n",
              "        \n",
              "  <svg xmlns=\"http://www.w3.org/2000/svg\" height=\"24px\"viewBox=\"0 0 24 24\"\n",
              "       width=\"24px\">\n",
              "    <path d=\"M0 0h24v24H0V0z\" fill=\"none\"/>\n",
              "    <path d=\"M18.56 5.44l.94 2.06.94-2.06 2.06-.94-2.06-.94-.94-2.06-.94 2.06-2.06.94zm-11 1L8.5 8.5l.94-2.06 2.06-.94-2.06-.94L8.5 2.5l-.94 2.06-2.06.94zm10 10l.94 2.06.94-2.06 2.06-.94-2.06-.94-.94-2.06-.94 2.06-2.06.94z\"/><path d=\"M17.41 7.96l-1.37-1.37c-.4-.4-.92-.59-1.43-.59-.52 0-1.04.2-1.43.59L10.3 9.45l-7.72 7.72c-.78.78-.78 2.05 0 2.83L4 21.41c.39.39.9.59 1.41.59.51 0 1.02-.2 1.41-.59l7.78-7.78 2.81-2.81c.8-.78.8-2.07 0-2.86zM5.41 20L4 18.59l7.72-7.72 1.47 1.35L5.41 20z\"/>\n",
              "  </svg>\n",
              "      </button>\n",
              "      \n",
              "  <style>\n",
              "    .colab-df-container {\n",
              "      display:flex;\n",
              "      flex-wrap:wrap;\n",
              "      gap: 12px;\n",
              "    }\n",
              "\n",
              "    .colab-df-convert {\n",
              "      background-color: #E8F0FE;\n",
              "      border: none;\n",
              "      border-radius: 50%;\n",
              "      cursor: pointer;\n",
              "      display: none;\n",
              "      fill: #1967D2;\n",
              "      height: 32px;\n",
              "      padding: 0 0 0 0;\n",
              "      width: 32px;\n",
              "    }\n",
              "\n",
              "    .colab-df-convert:hover {\n",
              "      background-color: #E2EBFA;\n",
              "      box-shadow: 0px 1px 2px rgba(60, 64, 67, 0.3), 0px 1px 3px 1px rgba(60, 64, 67, 0.15);\n",
              "      fill: #174EA6;\n",
              "    }\n",
              "\n",
              "    [theme=dark] .colab-df-convert {\n",
              "      background-color: #3B4455;\n",
              "      fill: #D2E3FC;\n",
              "    }\n",
              "\n",
              "    [theme=dark] .colab-df-convert:hover {\n",
              "      background-color: #434B5C;\n",
              "      box-shadow: 0px 1px 3px 1px rgba(0, 0, 0, 0.15);\n",
              "      filter: drop-shadow(0px 1px 2px rgba(0, 0, 0, 0.3));\n",
              "      fill: #FFFFFF;\n",
              "    }\n",
              "  </style>\n",
              "\n",
              "      <script>\n",
              "        const buttonEl =\n",
              "          document.querySelector('#df-ea5b83a6-cd69-4550-8870-dedc9f53f564 button.colab-df-convert');\n",
              "        buttonEl.style.display =\n",
              "          google.colab.kernel.accessAllowed ? 'block' : 'none';\n",
              "\n",
              "        async function convertToInteractive(key) {\n",
              "          const element = document.querySelector('#df-ea5b83a6-cd69-4550-8870-dedc9f53f564');\n",
              "          const dataTable =\n",
              "            await google.colab.kernel.invokeFunction('convertToInteractive',\n",
              "                                                     [key], {});\n",
              "          if (!dataTable) return;\n",
              "\n",
              "          const docLinkHtml = 'Like what you see? Visit the ' +\n",
              "            '<a target=\"_blank\" href=https://colab.research.google.com/notebooks/data_table.ipynb>data table notebook</a>'\n",
              "            + ' to learn more about interactive tables.';\n",
              "          element.innerHTML = '';\n",
              "          dataTable['output_type'] = 'display_data';\n",
              "          await google.colab.output.renderOutput(dataTable, element);\n",
              "          const docLink = document.createElement('div');\n",
              "          docLink.innerHTML = docLinkHtml;\n",
              "          element.appendChild(docLink);\n",
              "        }\n",
              "      </script>\n",
              "    </div>\n",
              "  </div>\n",
              "  "
            ]
          },
          "metadata": {},
          "execution_count": 21
        }
      ],
      "source": [
        "df_grafico"
      ]
    },
    {
      "cell_type": "code",
      "execution_count": null,
      "metadata": {
        "id": "TM7GlDhSU5Y_"
      },
      "outputs": [],
      "source": [
        "df['valor_total'] = df['valor_procedimento_a_repassar']+df['valor_lancamento_eventual_a_repassar']\n"
      ]
    },
    {
      "cell_type": "code",
      "execution_count": null,
      "metadata": {
        "id": "_RtWjIcWHqOF"
      },
      "outputs": [],
      "source": [
        "df_grafico['valor_total'] = df_grafico['valor_procedimento_a_repassar']+df_grafico['valor_lancamento_eventual_a_repassar']\n"
      ]
    },
    {
      "cell_type": "code",
      "execution_count": null,
      "metadata": {
        "id": "zLttz2nOHwQA"
      },
      "outputs": [],
      "source": [
        "df_grafico = df_grafico.drop(['valor_lancamento_eventual_a_repassar'], axis=1)\n",
        "df_grafico = df_grafico.drop(['valor_procedimento_a_repassar'], axis=1)"
      ]
    },
    {
      "cell_type": "code",
      "execution_count": null,
      "metadata": {
        "id": "4dk-cGE5WKpV"
      },
      "outputs": [],
      "source": [
        "df = df.drop(['valor_lancamento_eventual_a_repassar'], axis=1)\n",
        "df = df.drop(['valor_procedimento_a_repassar'], axis=1)\n"
      ]
    },
    {
      "cell_type": "code",
      "execution_count": null,
      "metadata": {
        "id": "faSf3lcoIkRw"
      },
      "outputs": [],
      "source": [
        "df_grafico['vai_receber'] = np.where(df_grafico['valor_predicao_liquido'] > 0.0000000001, 1, 0) "
      ]
    },
    {
      "cell_type": "code",
      "execution_count": null,
      "metadata": {
        "id": "2RirGuRATlP_",
        "colab": {
          "base_uri": "https://localhost:8080/"
        },
        "outputId": "0e29f6e0-e86a-46a2-dac8-5f67d9dc3f88"
      },
      "outputs": [
        {
          "output_type": "stream",
          "name": "stdout",
          "text": [
            "A Moda é  0    pf\n",
            "dtype: object\n"
          ]
        },
        {
          "output_type": "execute_result",
          "data": {
            "text/plain": [
              "count     74484\n",
              "unique        2\n",
              "top          pf\n",
              "freq      69264\n",
              "Name: pf_ou_pj, dtype: object"
            ]
          },
          "metadata": {},
          "execution_count": 27
        }
      ],
      "source": [
        "print('A Moda é ',df['pf_ou_pj'].mode())\n",
        "df['pf_ou_pj'].describe()"
      ]
    },
    {
      "cell_type": "code",
      "execution_count": null,
      "metadata": {
        "id": "Quz3A6laWqz0",
        "colab": {
          "base_uri": "https://localhost:8080/",
          "height": 405
        },
        "outputId": "3d88dda4-41fc-4704-c1a7-986288d945b5"
      },
      "outputs": [
        {
          "output_type": "display_data",
          "data": {
            "text/plain": [
              "<Figure size 576x432 with 1 Axes>"
            ],
            "image/png": "[encoded data removed]"
          },
          "metadata": {
            "needs_background": "light"
          }
        }
      ],
      "source": [
        "conjunto = df['pf_ou_pj']\n",
        "conjunto_sum = conjunto.value_counts()\n",
        "conjunto_sum = conjunto_sum.sort_index()\n",
        "x = conjunto_sum.index\n",
        "y = conjunto_sum\n",
        "plt.figure(figsize=(8, 6))\n",
        "plt.bar(x, y)\n",
        "\n",
        "plt.title('Distribuição de Tipos de Cooperados')\n",
        "plt.xlabel('PF_PJ')\n",
        "plt.ylabel('Quantconjunto')\n",
        "plt.xticks(x) # obriga a mostrar todos os números no eixo x\n",
        "plt.savefig('diagrama-barras.png')\n",
        "plt.show()"
      ]
    },
    {
      "cell_type": "code",
      "execution_count": null,
      "metadata": {
        "id": "hV6pja04gR2a",
        "colab": {
          "base_uri": "https://localhost:8080/"
        },
        "outputId": "cf3a2a10-3ac5-465f-b2ed-518a459ce9b6"
      },
      "outputs": [
        {
          "output_type": "stream",
          "name": "stdout",
          "text": [
            "A Moda é  0    Médico clínico\n",
            "dtype: object\n"
          ]
        },
        {
          "output_type": "execute_result",
          "data": {
            "text/plain": [
              "count              74484\n",
              "unique                72\n",
              "top       Médico clínico\n",
              "freq               14850\n",
              "Name: especialidade, dtype: object"
            ]
          },
          "metadata": {},
          "execution_count": 29
        }
      ],
      "source": [
        "print('A Moda é ',df['especialidade'].mode())\n",
        "df['especialidade'].describe()"
      ]
    },
    {
      "cell_type": "code",
      "execution_count": null,
      "metadata": {
        "id": "wjJhylMvg-W2",
        "colab": {
          "base_uri": "https://localhost:8080/",
          "height": 404
        },
        "outputId": "1daa1bb7-45d8-464b-8ad1-47699e6b18bf"
      },
      "outputs": [
        {
          "output_type": "display_data",
          "data": {
            "text/plain": [
              "<Figure size 1800x432 with 1 Axes>"
            ],
            "image/png": "[encoded data removed]"
          },
          "metadata": {
            "needs_background": "light"
          }
        }
      ],
      "source": [
        "especialidade = df_grafico['especialidade']\n",
        "especialidade_sum = especialidade.value_counts()\n",
        "especialidade_sum = especialidade_sum.sort_index()\n",
        "x = especialidade_sum.index\n",
        "y = especialidade_sum\n",
        "plt.figure(figsize=(25, 6))\n",
        "plt.bar(x, y)\n",
        "\n",
        "plt.title('Distribuição de Especialidades Médicas')\n",
        "plt.xlabel('Especialidades')\n",
        "plt.ylabel('Quantidade')\n",
        "plt.xticks(x) # obriga a mostrar todos os números no eixo x\n",
        "plt.savefig('diagrama-barras.png')\n",
        "plt.show()"
      ]
    },
    {
      "cell_type": "code",
      "execution_count": null,
      "metadata": {
        "id": "04ibRgPOg5TX",
        "colab": {
          "base_uri": "https://localhost:8080/"
        },
        "outputId": "636c8cfe-fd77-4adb-d914-151d79b131db"
      },
      "outputs": [
        {
          "output_type": "stream",
          "name": "stdout",
          "text": [
            "A Moda é  0    2\n",
            "dtype: int64\n",
            "Alemã(ão)           18\n",
            "Boliviano(a)       108\n",
            "Brasileiro(a)    74178\n",
            "Colombiano(a)       54\n",
            "Cubano(a)           18\n",
            "Iraquiano(a)        18\n",
            "Peruano(a)          90\n",
            "Name: nacionalidade, dtype: int64\n"
          ]
        }
      ],
      "source": [
        "print('A Moda é ',df_grafico['nacionalidade'].mode())\n",
        "df_grafico['nacionalidade'].describe()\n",
        "especialidade = df['nacionalidade']\n",
        "especialidade_sum = especialidade.value_counts()\n",
        "especialidade_sum = especialidade_sum.sort_index()\n",
        "print (especialidade_sum)"
      ]
    },
    {
      "cell_type": "code",
      "execution_count": null,
      "metadata": {
        "id": "lAr45IIHWe3c",
        "colab": {
          "base_uri": "https://localhost:8080/",
          "height": 404
        },
        "outputId": "bcb80882-8fdd-4bef-ca9e-bc549b077c33"
      },
      "outputs": [
        {
          "output_type": "display_data",
          "data": {
            "text/plain": [
              "<Figure size 936x432 with 1 Axes>"
            ],
            "image/png": "[encoded data removed]"
          },
          "metadata": {
            "needs_background": "light"
          }
        }
      ],
      "source": [
        "nacionalidade = df_grafico['nacionalidade']\n",
        "nacionalidade_sum = especialidade.value_counts()\n",
        "nacionalidade_sum = nacionalidade_sum.sort_index()\n",
        "x = nacionalidade_sum.index\n",
        "y = nacionalidade_sum\n",
        "plt.figure(figsize=(13, 6))\n",
        "plt.bar(x, y)\n",
        "\n",
        "plt.title('Distribuição das Nacionalidades')\n",
        "plt.xlabel('Nacionalidades')\n",
        "plt.ylabel('Quantidade')\n",
        "plt.xticks(x) # obriga a mostrar todos os números no eixo x\n",
        "plt.savefig('diagrama-barras.png')\n",
        "plt.show()"
      ]
    },
    {
      "cell_type": "code",
      "execution_count": null,
      "metadata": {
        "id": "kZYMmMq6GdVr",
        "colab": {
          "base_uri": "https://localhost:8080/"
        },
        "outputId": "9bd3ccf7-c101-4d17-9e5b-a1fe99d127ec"
      },
      "outputs": [
        {
          "output_type": "stream",
          "name": "stdout",
          "text": [
            "A Moda é  0    ATIVO\n",
            "dtype: object\n",
            "ATIVO         31995\n",
            "DEMITIDO        161\n",
            "ELIMINADO       890\n",
            "EXCLUÍDO       1487\n",
            "FALECIDO         18\n",
            "INATIVO       11439\n",
            "LICENCIADO    28494\n",
            "Name: situacao_epoca_do_repasse, dtype: int64\n"
          ]
        }
      ],
      "source": [
        "print('A Moda é ',df['situacao_epoca_do_repasse'].mode())\n",
        "df_grafico['situacao_epoca_do_repasse'].describe()\n",
        "data = df['situacao_epoca_do_repasse']\n",
        "data_sum = data.value_counts()\n",
        "data_sum = data_sum.sort_index()\n",
        "print (data_sum)"
      ]
    },
    {
      "cell_type": "code",
      "execution_count": null,
      "metadata": {
        "id": "3nLft4NTiYPh",
        "colab": {
          "base_uri": "https://localhost:8080/",
          "height": 404
        },
        "outputId": "b7cb4825-3da2-41ab-d8b8-8bd6f50a5d65"
      },
      "outputs": [
        {
          "output_type": "display_data",
          "data": {
            "text/plain": [
              "<Figure size 576x432 with 1 Axes>"
            ],
            "image/png": "[encoded data removed]"
          },
          "metadata": {
            "needs_background": "light"
          }
        }
      ],
      "source": [
        "df_data = df['situacao_epoca_do_repasse']\n",
        "data_sum = df_data.value_counts()\n",
        "data_sum = data_sum.sort_index()\n",
        "x = data_sum.sort_values(ascending=False).index\n",
        "y = data_sum.sort_values(ascending=False)\n",
        "plt.figure(figsize=(8, 6))\n",
        "plt.bar(x, y)\n",
        "\n",
        "plt.title('Distribuição de Situações de Cooperado')\n",
        "plt.xlabel('Situações')\n",
        "plt.ylabel('Quantidade')\n",
        "plt.xticks(x) # obriga a mostrar todos os números no eixo x\n",
        "plt.savefig('diagrama-barras.png')\n",
        "plt.show()"
      ]
    },
    {
      "cell_type": "code",
      "execution_count": null,
      "metadata": {
        "id": "_Q3sS1JQij9z",
        "colab": {
          "base_uri": "https://localhost:8080/"
        },
        "outputId": "606714c5-900a-4f26-a90f-b402c08ca25f"
      },
      "outputs": [
        {
          "output_type": "stream",
          "name": "stdout",
          "text": [
            "A Moda é  0    P ATENDIMENTO\n",
            "dtype: object\n",
            "BALEIA              3456\n",
            "BIOVISAOCENTESP       18\n",
            "CEM                10638\n",
            "CLINICA MAIS         414\n",
            "CLÍNICA OLHOS       2772\n",
            "CONSULTORIOS        8712\n",
            "HOSPSAOLUCAS        6426\n",
            "IPSEMG/HSL          8568\n",
            "LABORATÓRIOS         576\n",
            "LITHOCENTRO           54\n",
            "MATERDEICONTORN       18\n",
            "P ATENDIMENTO      17316\n",
            "PINEL                 36\n",
            "SANTA FÉ              18\n",
            "SANTCASBH           7884\n",
            "SLPT/HSL            1404\n",
            "SOMG                 684\n",
            "Sem Hospital        5436\n",
            "UROMASTER             18\n",
            "VERA CRUZ             36\n",
            "Name: hospital, dtype: int64\n"
          ]
        }
      ],
      "source": [
        "print('A Moda é ',df['hospital'].mode())\n",
        "df_grafico['hospital'].describe()\n",
        "data = df['hospital']\n",
        "data_sum = data.value_counts()\n",
        "data_sum = data_sum.sort_index()\n",
        "print (data_sum)"
      ]
    },
    {
      "cell_type": "code",
      "execution_count": null,
      "metadata": {
        "id": "OY8M_Xgic831",
        "colab": {
          "base_uri": "https://localhost:8080/",
          "height": 404
        },
        "outputId": "1ee38478-c90b-4deb-fbc0-b10900fab48c"
      },
      "outputs": [
        {
          "output_type": "display_data",
          "data": {
            "text/plain": [
              "<Figure size 1080x432 with 1 Axes>"
            ],
            "image/png": "[encoded data removed]"
          },
          "metadata": {
            "needs_background": "light"
          }
        }
      ],
      "source": [
        "df_data = df['hospital']\n",
        "data_sum = df_data.value_counts()\n",
        "data_sum = data_sum.sort_index()\n",
        "\n",
        "x = data_sum.sort_values(ascending=True).index\n",
        "y = data_sum.sort_values(ascending=True)\n",
        "plt.figure(figsize=(15, 6))\n",
        "plt.barh(x, y)\n",
        "\n",
        "plt.title('Distribuição de Hospitais')\n",
        "plt.xlabel('Quantidade')\n",
        "plt.ylabel('Hospitais')\n",
        "\n",
        "plt.savefig('diagrama-barras.png')\n",
        "plt.show()"
      ]
    },
    {
      "cell_type": "code",
      "execution_count": null,
      "metadata": {
        "id": "Qe3Fqo9oeqH1",
        "colab": {
          "base_uri": "https://localhost:8080/"
        },
        "outputId": "0a190587-5c27-43fc-d454-f38f3c16144d"
      },
      "outputs": [
        {
          "output_type": "stream",
          "name": "stdout",
          "text": [
            "A Moda é  0    Solteiro\n",
            "dtype: object\n",
            "Casado                    29556\n",
            "Desquitado (a)              918\n",
            "Divorciado                 1386\n",
            "Marital                      36\n",
            "Sem                        6660\n",
            "Separado judicialmente      396\n",
            "Solteiro                  35244\n",
            "União estável               126\n",
            "Viúvo (a)                   162\n",
            "Name: estado_civil, dtype: int64\n"
          ]
        }
      ],
      "source": [
        "print('A Moda é ',df['estado_civil'].mode())\n",
        "df_grafico['estado_civil'].describe()\n",
        "data = df['estado_civil']\n",
        "data_sum = data.value_counts()\n",
        "data_sum = data_sum.sort_index()\n",
        "print (data_sum)"
      ]
    },
    {
      "cell_type": "code",
      "execution_count": null,
      "metadata": {
        "id": "mFX8_wlUfQw_",
        "colab": {
          "base_uri": "https://localhost:8080/",
          "height": 404
        },
        "outputId": "97291dad-286c-4e51-a8fb-ffd3333d0dbe"
      },
      "outputs": [
        {
          "output_type": "display_data",
          "data": {
            "text/plain": [
              "<Figure size 1440x432 with 1 Axes>"
            ],
            "image/png": "[encoded data removed]"
          },
          "metadata": {
            "needs_background": "light"
          }
        }
      ],
      "source": [
        "df_data = df['estado_civil']\n",
        "data_sum = df_data.value_counts()\n",
        "data_sum = data_sum.sort_index()\n",
        "x = data_sum.sort_values(ascending=False).index\n",
        "y = data_sum.sort_values(ascending=False)\n",
        "plt.figure(figsize=(20, 6))\n",
        "plt.bar(x, y)\n",
        "\n",
        "plt.title('Distribuição de Estado Civíl')\n",
        "plt.xlabel('Estado Civíl')\n",
        "plt.ylabel('Quantidade')\n",
        "plt.xticks(x) # obriga a mostrar todos os números no eixo x\n",
        "plt.savefig('diagrama-barras.png')\n",
        "plt.show()"
      ]
    },
    {
      "cell_type": "code",
      "execution_count": null,
      "metadata": {
        "id": "QMs4hun_R2qF",
        "colab": {
          "base_uri": "https://localhost:8080/",
          "height": 280
        },
        "outputId": "20a3ea85-7578-4404-b6bc-b4b936780360"
      },
      "outputs": [
        {
          "output_type": "display_data",
          "data": {
            "text/plain": [
              "<Figure size 432x288 with 1 Axes>"
            ],
            "image/png": "[encoded data removed]"
          },
          "metadata": {
            "needs_background": "light"
          }
        }
      ],
      "source": [
        "values=['Solteiro','Casado','Divorciado']\n",
        "df_teste2 = df[df.estado_civil.isin(values)]\n",
        "#df_teste2 = df_teste2[df_teste2.valor_total>0]\n",
        "df_teste2 = df_teste2[df_teste2.pf_ou_pj=='pf']\n",
        "\n",
        "#sns.catplot(x='estado_civil',y='valor_total',kind='violin',data=df_teste2, height=8.27, aspect=11.7/8.27)\n",
        "#sns.boxplot(x='estado_civil',y='valor_total',data=df_teste2)\n",
        "sns.barplot(x='estado_civil',y='valor_total',data=df_teste2);"
      ]
    },
    {
      "cell_type": "code",
      "execution_count": null,
      "metadata": {
        "id": "dhLBMfs4lKTw",
        "colab": {
          "base_uri": "https://localhost:8080/",
          "height": 297
        },
        "outputId": "088f455e-15d9-4412-a23a-5d166da24426"
      },
      "outputs": [
        {
          "output_type": "execute_result",
          "data": {
            "text/plain": [
              "<matplotlib.axes._subplots.AxesSubplot at 0x7ff44c0e2cd0>"
            ]
          },
          "metadata": {},
          "execution_count": 40
        },
        {
          "output_type": "display_data",
          "data": {
            "text/plain": [
              "<Figure size 432x288 with 1 Axes>"
            ],
            "image/png": "[encoded data removed]"
          },
          "metadata": {
            "needs_background": "light"
          }
        }
      ],
      "source": [
        "values=['Solteiro','Casado','Divorciado']\n",
        "df_teste2 = df[df.estado_civil.isin(values)]\n",
        "df_teste2 = df_teste2[df_teste2.valor_total>0]\n",
        "df_teste2 = df_teste2[df_teste2.pf_ou_pj=='pf']\n",
        "\n",
        "#sns.catplot(x='estado_civil',y='valor_total',kind='violin',data=df_teste2, height=8.27, aspect=11.7/8.27)\n",
        "#sns.boxplot(x='estado_civil',y='valor_total',data=df_teste2)\n",
        "sns.barplot(x='estado_civil',y='valor_total',data=df_teste2)"
      ]
    },
    {
      "cell_type": "code",
      "source": [
        "from scipy.stats import f\n",
        "def T2Hotelling_duas_amostras(df1, df2, delta0):\n",
        "    n1 = len(df1)\n",
        "    n2 = len(df2)\n",
        "    p = len(df1.columns)\n",
        "    Xbarra1=df1.mean()\n",
        "    Xbarra2=df2.mean()\n",
        "    S1 = df1.cov()\n",
        "    S2 = df2.cov()\n",
        "    S_pooled = ((n1-1)*S1 + (n2-1)*S2)/(n1+n2-2)\n",
        "    S_pooled_inv = np.linalg.inv(S_pooled)\n",
        "    \n",
        "    T2Hotelling_duas_amostras = np.array(Xbarra1-Xbarra2-delta0).T.dot(S_pooled_inv).dot(np.array(Xbarra1-Xbarra2-delta0)) / (n1+n2-2)\n",
        "    qf = f.ppf(0.95, p , (n1+n2-2), loc=0, scale=1)\n",
        "    teste = T2Hotelling_duas_amostras > (n1+n2-2) * p / (n1+n2-p-1) * qf\n",
        "    pvalor = 1-f.cdf(T2Hotelling_duas_amostras/((n1+n2-2) * p / (n1+n2-p-1) ), p, (n1+n2-2))\n",
        "    print('Rejeitamos H0') if teste else print('Não rejeitamos H0')\n",
        "    print('Valor da estatística', T2Hotelling_duas_amostras)\n",
        "    print('valor p', pvalor)"
      ],
      "metadata": {
        "id": "pKKCX0MgUfiz"
      },
      "execution_count": null,
      "outputs": []
    },
    {
      "cell_type": "code",
      "source": [
        "df_amostra = df_teste2.sample(int(len(df_teste2)*10/100))\n",
        "df_amostra_casado = pd.DataFrame(data=df_amostra.iloc[:,-1][df_amostra['estado_civil']=='Casado'], columns=['valor_total'])\n",
        "df_amostra_solteiro = pd.DataFrame(data=df_amostra.iloc[:,-1][df_amostra['estado_civil']=='Solteiro'], columns=['valor_total'])\n",
        "df_casado = pd.DataFrame(data=df_teste2.iloc[:,-1][df_teste2['estado_civil']=='Casado'], columns=['valor_total'])\n",
        "df_solteiro = pd.DataFrame(data=df_teste2.iloc[:,-1][df_teste2['estado_civil']=='Solteiro'], columns=['valor_total'])          "
      ],
      "metadata": {
        "id": "JLBfuLhOUH_H"
      },
      "execution_count": null,
      "outputs": []
    },
    {
      "cell_type": "code",
      "source": [
        "S1 = df_casado.cov()\n",
        "n1 = len(df_amostra_casado)\n",
        "Xbarra1 = df_amostra_casado.mean()\n",
        "S1"
      ],
      "metadata": {
        "colab": {
          "base_uri": "https://localhost:8080/",
          "height": 81
        },
        "id": "_MmJ6QcvUNjE",
        "outputId": "6e72023a-ec0e-4896-a9d5-7038891732f7"
      },
      "execution_count": null,
      "outputs": [
        {
          "output_type": "execute_result",
          "data": {
            "text/plain": [
              "              valor_total\n",
              "valor_total  2.498547e+08"
            ],
            "text/html": [
              "\n",
              "  <div id=\"df-c2d39250-5eb1-4e2f-a928-05eca7708aff\">\n",
              "    <div class=\"colab-df-container\">\n",
              "      <div>\n",
              "<style scoped>\n",
              "    .dataframe tbody tr th:only-of-type {\n",
              "        vertical-align: middle;\n",
              "    }\n",
              "\n",
              "    .dataframe tbody tr th {\n",
              "        vertical-align: top;\n",
              "    }\n",
              "\n",
              "    .dataframe thead th {\n",
              "        text-align: right;\n",
              "    }\n",
              "</style>\n",
              "<table border=\"1\" class=\"dataframe\">\n",
              "  <thead>\n",
              "    <tr style=\"text-align: right;\">\n",
              "      <th></th>\n",
              "      <th>valor_total</th>\n",
              "    </tr>\n",
              "  </thead>\n",
              "  <tbody>\n",
              "    <tr>\n",
              "      <th>valor_total</th>\n",
              "      <td>2.498547e+08</td>\n",
              "    </tr>\n",
              "  </tbody>\n",
              "</table>\n",
              "</div>\n",
              "      <button class=\"colab-df-convert\" onclick=\"convertToInteractive('df-c2d39250-5eb1-4e2f-a928-05eca7708aff')\"\n",
              "              title=\"Convert this dataframe to an interactive table.\"\n",
              "              style=\"display:none;\">\n",
              "        \n",
              "  <svg xmlns=\"http://www.w3.org/2000/svg\" height=\"24px\"viewBox=\"0 0 24 24\"\n",
              "       width=\"24px\">\n",
              "    <path d=\"M0 0h24v24H0V0z\" fill=\"none\"/>\n",
              "    <path d=\"M18.56 5.44l.94 2.06.94-2.06 2.06-.94-2.06-.94-.94-2.06-.94 2.06-2.06.94zm-11 1L8.5 8.5l.94-2.06 2.06-.94-2.06-.94L8.5 2.5l-.94 2.06-2.06.94zm10 10l.94 2.06.94-2.06 2.06-.94-2.06-.94-.94-2.06-.94 2.06-2.06.94z\"/><path d=\"M17.41 7.96l-1.37-1.37c-.4-.4-.92-.59-1.43-.59-.52 0-1.04.2-1.43.59L10.3 9.45l-7.72 7.72c-.78.78-.78 2.05 0 2.83L4 21.41c.39.39.9.59 1.41.59.51 0 1.02-.2 1.41-.59l7.78-7.78 2.81-2.81c.8-.78.8-2.07 0-2.86zM5.41 20L4 18.59l7.72-7.72 1.47 1.35L5.41 20z\"/>\n",
              "  </svg>\n",
              "      </button>\n",
              "      \n",
              "  <style>\n",
              "    .colab-df-container {\n",
              "      display:flex;\n",
              "      flex-wrap:wrap;\n",
              "      gap: 12px;\n",
              "    }\n",
              "\n",
              "    .colab-df-convert {\n",
              "      background-color: #E8F0FE;\n",
              "      border: none;\n",
              "      border-radius: 50%;\n",
              "      cursor: pointer;\n",
              "      display: none;\n",
              "      fill: #1967D2;\n",
              "      height: 32px;\n",
              "      padding: 0 0 0 0;\n",
              "      width: 32px;\n",
              "    }\n",
              "\n",
              "    .colab-df-convert:hover {\n",
              "      background-color: #E2EBFA;\n",
              "      box-shadow: 0px 1px 2px rgba(60, 64, 67, 0.3), 0px 1px 3px 1px rgba(60, 64, 67, 0.15);\n",
              "      fill: #174EA6;\n",
              "    }\n",
              "\n",
              "    [theme=dark] .colab-df-convert {\n",
              "      background-color: #3B4455;\n",
              "      fill: #D2E3FC;\n",
              "    }\n",
              "\n",
              "    [theme=dark] .colab-df-convert:hover {\n",
              "      background-color: #434B5C;\n",
              "      box-shadow: 0px 1px 3px 1px rgba(0, 0, 0, 0.15);\n",
              "      filter: drop-shadow(0px 1px 2px rgba(0, 0, 0, 0.3));\n",
              "      fill: #FFFFFF;\n",
              "    }\n",
              "  </style>\n",
              "\n",
              "      <script>\n",
              "        const buttonEl =\n",
              "          document.querySelector('#df-c2d39250-5eb1-4e2f-a928-05eca7708aff button.colab-df-convert');\n",
              "        buttonEl.style.display =\n",
              "          google.colab.kernel.accessAllowed ? 'block' : 'none';\n",
              "\n",
              "        async function convertToInteractive(key) {\n",
              "          const element = document.querySelector('#df-c2d39250-5eb1-4e2f-a928-05eca7708aff');\n",
              "          const dataTable =\n",
              "            await google.colab.kernel.invokeFunction('convertToInteractive',\n",
              "                                                     [key], {});\n",
              "          if (!dataTable) return;\n",
              "\n",
              "          const docLinkHtml = 'Like what you see? Visit the ' +\n",
              "            '<a target=\"_blank\" href=https://colab.research.google.com/notebooks/data_table.ipynb>data table notebook</a>'\n",
              "            + ' to learn more about interactive tables.';\n",
              "          element.innerHTML = '';\n",
              "          dataTable['output_type'] = 'display_data';\n",
              "          await google.colab.output.renderOutput(dataTable, element);\n",
              "          const docLink = document.createElement('div');\n",
              "          docLink.innerHTML = docLinkHtml;\n",
              "          element.appendChild(docLink);\n",
              "        }\n",
              "      </script>\n",
              "    </div>\n",
              "  </div>\n",
              "  "
            ]
          },
          "metadata": {},
          "execution_count": 43
        }
      ]
    },
    {
      "cell_type": "code",
      "source": [
        "S2 = df_solteiro.cov()\n",
        "n2 = len(df_amostra_solteiro)\n",
        "Xbarra2 = df_amostra_solteiro.mean()\n",
        "S2"
      ],
      "metadata": {
        "colab": {
          "base_uri": "https://localhost:8080/",
          "height": 81
        },
        "id": "0F7bWJcYUR3S",
        "outputId": "a7252518-40b1-4d9a-fd34-5626d6430c9b"
      },
      "execution_count": null,
      "outputs": [
        {
          "output_type": "execute_result",
          "data": {
            "text/plain": [
              "              valor_total\n",
              "valor_total  3.251756e+08"
            ],
            "text/html": [
              "\n",
              "  <div id=\"df-0f00f114-9260-449b-a00f-0c9b4cdca201\">\n",
              "    <div class=\"colab-df-container\">\n",
              "      <div>\n",
              "<style scoped>\n",
              "    .dataframe tbody tr th:only-of-type {\n",
              "        vertical-align: middle;\n",
              "    }\n",
              "\n",
              "    .dataframe tbody tr th {\n",
              "        vertical-align: top;\n",
              "    }\n",
              "\n",
              "    .dataframe thead th {\n",
              "        text-align: right;\n",
              "    }\n",
              "</style>\n",
              "<table border=\"1\" class=\"dataframe\">\n",
              "  <thead>\n",
              "    <tr style=\"text-align: right;\">\n",
              "      <th></th>\n",
              "      <th>valor_total</th>\n",
              "    </tr>\n",
              "  </thead>\n",
              "  <tbody>\n",
              "    <tr>\n",
              "      <th>valor_total</th>\n",
              "      <td>3.251756e+08</td>\n",
              "    </tr>\n",
              "  </tbody>\n",
              "</table>\n",
              "</div>\n",
              "      <button class=\"colab-df-convert\" onclick=\"convertToInteractive('df-0f00f114-9260-449b-a00f-0c9b4cdca201')\"\n",
              "              title=\"Convert this dataframe to an interactive table.\"\n",
              "              style=\"display:none;\">\n",
              "        \n",
              "  <svg xmlns=\"http://www.w3.org/2000/svg\" height=\"24px\"viewBox=\"0 0 24 24\"\n",
              "       width=\"24px\">\n",
              "    <path d=\"M0 0h24v24H0V0z\" fill=\"none\"/>\n",
              "    <path d=\"M18.56 5.44l.94 2.06.94-2.06 2.06-.94-2.06-.94-.94-2.06-.94 2.06-2.06.94zm-11 1L8.5 8.5l.94-2.06 2.06-.94-2.06-.94L8.5 2.5l-.94 2.06-2.06.94zm10 10l.94 2.06.94-2.06 2.06-.94-2.06-.94-.94-2.06-.94 2.06-2.06.94z\"/><path d=\"M17.41 7.96l-1.37-1.37c-.4-.4-.92-.59-1.43-.59-.52 0-1.04.2-1.43.59L10.3 9.45l-7.72 7.72c-.78.78-.78 2.05 0 2.83L4 21.41c.39.39.9.59 1.41.59.51 0 1.02-.2 1.41-.59l7.78-7.78 2.81-2.81c.8-.78.8-2.07 0-2.86zM5.41 20L4 18.59l7.72-7.72 1.47 1.35L5.41 20z\"/>\n",
              "  </svg>\n",
              "      </button>\n",
              "      \n",
              "  <style>\n",
              "    .colab-df-container {\n",
              "      display:flex;\n",
              "      flex-wrap:wrap;\n",
              "      gap: 12px;\n",
              "    }\n",
              "\n",
              "    .colab-df-convert {\n",
              "      background-color: #E8F0FE;\n",
              "      border: none;\n",
              "      border-radius: 50%;\n",
              "      cursor: pointer;\n",
              "      display: none;\n",
              "      fill: #1967D2;\n",
              "      height: 32px;\n",
              "      padding: 0 0 0 0;\n",
              "      width: 32px;\n",
              "    }\n",
              "\n",
              "    .colab-df-convert:hover {\n",
              "      background-color: #E2EBFA;\n",
              "      box-shadow: 0px 1px 2px rgba(60, 64, 67, 0.3), 0px 1px 3px 1px rgba(60, 64, 67, 0.15);\n",
              "      fill: #174EA6;\n",
              "    }\n",
              "\n",
              "    [theme=dark] .colab-df-convert {\n",
              "      background-color: #3B4455;\n",
              "      fill: #D2E3FC;\n",
              "    }\n",
              "\n",
              "    [theme=dark] .colab-df-convert:hover {\n",
              "      background-color: #434B5C;\n",
              "      box-shadow: 0px 1px 3px 1px rgba(0, 0, 0, 0.15);\n",
              "      filter: drop-shadow(0px 1px 2px rgba(0, 0, 0, 0.3));\n",
              "      fill: #FFFFFF;\n",
              "    }\n",
              "  </style>\n",
              "\n",
              "      <script>\n",
              "        const buttonEl =\n",
              "          document.querySelector('#df-0f00f114-9260-449b-a00f-0c9b4cdca201 button.colab-df-convert');\n",
              "        buttonEl.style.display =\n",
              "          google.colab.kernel.accessAllowed ? 'block' : 'none';\n",
              "\n",
              "        async function convertToInteractive(key) {\n",
              "          const element = document.querySelector('#df-0f00f114-9260-449b-a00f-0c9b4cdca201');\n",
              "          const dataTable =\n",
              "            await google.colab.kernel.invokeFunction('convertToInteractive',\n",
              "                                                     [key], {});\n",
              "          if (!dataTable) return;\n",
              "\n",
              "          const docLinkHtml = 'Like what you see? Visit the ' +\n",
              "            '<a target=\"_blank\" href=https://colab.research.google.com/notebooks/data_table.ipynb>data table notebook</a>'\n",
              "            + ' to learn more about interactive tables.';\n",
              "          element.innerHTML = '';\n",
              "          dataTable['output_type'] = 'display_data';\n",
              "          await google.colab.output.renderOutput(dataTable, element);\n",
              "          const docLink = document.createElement('div');\n",
              "          docLink.innerHTML = docLinkHtml;\n",
              "          element.appendChild(docLink);\n",
              "        }\n",
              "      </script>\n",
              "    </div>\n",
              "  </div>\n",
              "  "
            ]
          },
          "metadata": {},
          "execution_count": 44
        }
      ]
    },
    {
      "cell_type": "code",
      "source": [
        "\n",
        "T2Hotelling_duas_amostras(df_amostra_casado,df_amostra_solteiro,[0])"
      ],
      "metadata": {
        "colab": {
          "base_uri": "https://localhost:8080/"
        },
        "id": "8dBpH8aYUZ-Y",
        "outputId": "f770bbd8-d68b-40cd-9d3b-29ffb2d414bb"
      },
      "execution_count": null,
      "outputs": [
        {
          "output_type": "stream",
          "name": "stdout",
          "text": [
            "Não rejeitamos H0\n",
            "Valor da estatística 5.092054234644371e-07\n",
            "valor p 0.9994307376336385\n"
          ]
        }
      ]
    },
    {
      "cell_type": "code",
      "execution_count": null,
      "metadata": {
        "colab": {
          "base_uri": "https://localhost:8080/"
        },
        "id": "007cTo2rfdWn",
        "outputId": "9a73d78e-3f99-4eb2-ba04-e51936a393fc"
      },
      "outputs": [
        {
          "output_type": "stream",
          "name": "stdout",
          "text": [
            "A Moda é  0    Superior\n",
            "dtype: object\n",
            "Doutorado     1998\n",
            "Mestrado      2808\n",
            "Superior     64476\n",
            "pj            5202\n",
            "Name: grau_instrucao, dtype: int64\n"
          ]
        }
      ],
      "source": [
        "print('A Moda é ',df['grau_instrucao'].mode())\n",
        "df_grafico['grau_instrucao'].describe()\n",
        "data = df['grau_instrucao']\n",
        "data_sum = data.value_counts()\n",
        "data_sum = data_sum.sort_index()\n",
        "print (data_sum)"
      ]
    },
    {
      "cell_type": "code",
      "execution_count": null,
      "metadata": {
        "colab": {
          "base_uri": "https://localhost:8080/",
          "height": 404
        },
        "id": "BHkVD3R6g5eb",
        "outputId": "1c975739-40b1-47b4-8ecd-75597d1a0797"
      },
      "outputs": [
        {
          "output_type": "display_data",
          "data": {
            "text/plain": [
              "<Figure size 1440x432 with 1 Axes>"
            ],
            "image/png": "[encoded data removed]"
          },
          "metadata": {
            "needs_background": "light"
          }
        }
      ],
      "source": [
        "df_data = df['grau_instrucao']\n",
        "data_sum = df_data.value_counts()\n",
        "data_sum = data_sum.sort_index()\n",
        "x = data_sum.sort_values(ascending=False).index\n",
        "y = data_sum.sort_values(ascending=False)\n",
        "plt.figure(figsize=(20, 6))\n",
        "plt.bar(x, y)\n",
        "\n",
        "plt.title('Distribuição de Grau Instrução')\n",
        "plt.xlabel('Grau Instrução')\n",
        "plt.ylabel('Quantidade')\n",
        "plt.xticks(x) # obriga a mostrar todos os números no eixo x\n",
        "plt.savefig('diagrama-barras.png')\n",
        "plt.show()"
      ]
    },
    {
      "cell_type": "code",
      "execution_count": null,
      "metadata": {
        "colab": {
          "base_uri": "https://localhost:8080/",
          "height": 297
        },
        "id": "xaEY2oJBrYmK",
        "outputId": "52ef3f8b-76bf-4180-bc70-1714ed9d209f"
      },
      "outputs": [
        {
          "output_type": "execute_result",
          "data": {
            "text/plain": [
              "<matplotlib.axes._subplots.AxesSubplot at 0x7ff44bdea050>"
            ]
          },
          "metadata": {},
          "execution_count": 48
        },
        {
          "output_type": "display_data",
          "data": {
            "text/plain": [
              "<Figure size 432x288 with 1 Axes>"
            ],
            "image/png": "[encoded data removed]"
          },
          "metadata": {
            "needs_background": "light"
          }
        }
      ],
      "source": [
        "values=['Superior','Mestrado','Doutorado']\n",
        "df_teste2 = df[df.grau_instrucao.isin(values)]\n",
        "#df_teste2 = df_teste2[df_teste2.valor_total>0]\n",
        "df_teste2 = df_teste2[df_teste2.pf_ou_pj=='pf']\n",
        "\n",
        "sns.barplot(x='grau_instrucao',y='valor_total',data=df_teste2)"
      ]
    },
    {
      "cell_type": "code",
      "execution_count": null,
      "metadata": {
        "colab": {
          "base_uri": "https://localhost:8080/"
        },
        "id": "lk3kQgKBsIEv",
        "outputId": "cb26acac-3757-4841-8005-e650b5bd79e7"
      },
      "outputs": [
        {
          "output_type": "stream",
          "name": "stdout",
          "text": [
            "A Moda é  0    0\n",
            "dtype: int64\n",
            "0    65412\n",
            "1     9072\n",
            "Name: cooperado_origem_de_conversao, dtype: int64\n"
          ]
        }
      ],
      "source": [
        "print('A Moda é ',df_grafico['cooperado_origem_de_conversao'].mode())\n",
        "df_grafico['cooperado_origem_de_conversao'].describe()\n",
        "data = df['cooperado_origem_de_conversao']\n",
        "data_sum = data.value_counts()\n",
        "data_sum = data_sum.sort_index()\n",
        "print (data_sum)"
      ]
    },
    {
      "cell_type": "code",
      "execution_count": null,
      "metadata": {
        "colab": {
          "base_uri": "https://localhost:8080/",
          "height": 404
        },
        "id": "WvQo2swIsVKu",
        "outputId": "09a00603-5af4-4463-f8ff-4f0d2bb19a48"
      },
      "outputs": [
        {
          "output_type": "display_data",
          "data": {
            "text/plain": [
              "<Figure size 576x432 with 1 Axes>"
            ],
            "image/png": "[encoded data removed]"
          },
          "metadata": {
            "needs_background": "light"
          }
        }
      ],
      "source": [
        "idade = df['cooperado_origem_de_conversao']\n",
        "idade_sum = idade.value_counts()\n",
        "idade_sum = idade_sum.sort_index()\n",
        "x = idade_sum.index\n",
        "y = idade_sum\n",
        "plt.figure(figsize=(8, 6))\n",
        "plt.bar(x, y)\n",
        "\n",
        "plt.title('Cooperado Origem de Conversão')\n",
        "plt.xlabel('0=Não      1=Sim')\n",
        "plt.ylabel('Quantidade')\n",
        "plt.xticks(x) # obriga a mostrar todos os números no eixo x\n",
        "plt.savefig('diagrama-barras.png')\n",
        "plt.show()"
      ]
    },
    {
      "cell_type": "code",
      "execution_count": null,
      "metadata": {
        "id": "4ooOjsXxs501",
        "colab": {
          "base_uri": "https://localhost:8080/"
        },
        "outputId": "52af18ef-0c9b-48ff-faf1-2822df79ee9c"
      },
      "outputs": [
        {
          "output_type": "stream",
          "name": "stdout",
          "text": [
            "A Moda é  0    0\n",
            "dtype: int64\n",
            "0    71172\n",
            "1     3312\n",
            "Name: cooperado_destino_de_conversao, dtype: int64\n"
          ]
        }
      ],
      "source": [
        "print('A Moda é ',df_grafico['cooperado_destino_de_conversao'].mode())\n",
        "df_grafico['cooperado_destino_de_conversao'].describe()\n",
        "data = df['cooperado_destino_de_conversao']\n",
        "data_sum = data.value_counts()\n",
        "data_sum = data_sum.sort_index()\n",
        "print (data_sum)"
      ]
    },
    {
      "cell_type": "code",
      "execution_count": null,
      "metadata": {
        "id": "ub848v2otIdh",
        "colab": {
          "base_uri": "https://localhost:8080/",
          "height": 404
        },
        "outputId": "de46b688-8c5f-481b-9217-47f192eaeddc"
      },
      "outputs": [
        {
          "output_type": "display_data",
          "data": {
            "text/plain": [
              "<Figure size 576x432 with 1 Axes>"
            ],
            "image/png": "[encoded data removed]"
          },
          "metadata": {
            "needs_background": "light"
          }
        }
      ],
      "source": [
        "idade = df['cooperado_destino_de_conversao']\n",
        "idade_sum = idade.value_counts()\n",
        "idade_sum = idade_sum.sort_index()\n",
        "x = idade_sum.index\n",
        "y = idade_sum\n",
        "plt.figure(figsize=(8, 6))\n",
        "plt.bar(x, y)\n",
        "\n",
        "plt.title('Cooperado Destino de Conversão')\n",
        "plt.xlabel('0=Não      1=Sim')\n",
        "plt.ylabel('Quantidade')\n",
        "plt.xticks(x) # obriga a mostrar todos os números no eixo x\n",
        "plt.savefig('diagrama-barras.png')\n",
        "plt.show()"
      ]
    },
    {
      "cell_type": "code",
      "execution_count": null,
      "metadata": {
        "id": "f00jvoUttXhS",
        "colab": {
          "base_uri": "https://localhost:8080/"
        },
        "outputId": "dc6338f8-aa93-4f9d-826f-01726f1416e4"
      },
      "outputs": [
        {
          "output_type": "stream",
          "name": "stdout",
          "text": [
            "A Moda é  0    0\n",
            "dtype: int64\n",
            "0    73980\n",
            "1      504\n",
            "Name: participa_servico_especial, dtype: int64\n"
          ]
        }
      ],
      "source": [
        "print('A Moda é ',df_grafico['participa_servico_especial'].mode())\n",
        "df_grafico['participa_servico_especial'].describe()\n",
        "data = df['participa_servico_especial']\n",
        "data_sum = data.value_counts()\n",
        "data_sum = data_sum.sort_index()\n",
        "print (data_sum)"
      ]
    },
    {
      "cell_type": "code",
      "execution_count": null,
      "metadata": {
        "id": "UttiyhBgts8I",
        "colab": {
          "base_uri": "https://localhost:8080/",
          "height": 404
        },
        "outputId": "ef3a60c4-05f7-4380-8c0d-33f1342a8909"
      },
      "outputs": [
        {
          "output_type": "display_data",
          "data": {
            "text/plain": [
              "<Figure size 576x432 with 1 Axes>"
            ],
            "image/png": "[encoded data removed]"
          },
          "metadata": {
            "needs_background": "light"
          }
        }
      ],
      "source": [
        "idade = df['participa_servico_especial']\n",
        "idade_sum = idade.value_counts()\n",
        "idade_sum = idade_sum.sort_index()\n",
        "x = idade_sum.index\n",
        "y = idade_sum\n",
        "plt.figure(figsize=(8, 6))\n",
        "plt.bar(x, y)\n",
        "\n",
        "plt.title('Participa Servico Especial')\n",
        "plt.xlabel('0=Não      1=Sim')\n",
        "plt.ylabel('Quantidade')\n",
        "plt.xticks(x) # obriga a mostrar todos os números no eixo x\n",
        "plt.savefig('diagrama-barras.png')\n",
        "plt.show()"
      ]
    },
    {
      "cell_type": "code",
      "execution_count": null,
      "metadata": {
        "id": "bXAVLL-3t76j",
        "colab": {
          "base_uri": "https://localhost:8080/"
        },
        "outputId": "02c20050-30d9-492d-ef45-6244d3e59d12"
      },
      "outputs": [
        {
          "output_type": "execute_result",
          "data": {
            "text/plain": [
              "count     74484.000000\n",
              "mean       1710.671605\n",
              "std       14047.102956\n",
              "min        -164.740000\n",
              "25%           0.000000\n",
              "50%           0.000000\n",
              "75%           0.000000\n",
              "max      958528.490000\n",
              "Name: valor_total, dtype: float64"
            ]
          },
          "metadata": {},
          "execution_count": 55
        }
      ],
      "source": [
        "df['valor_total'].describe()"
      ]
    },
    {
      "cell_type": "code",
      "execution_count": null,
      "metadata": {
        "id": "4M1kAVOwuJHX",
        "colab": {
          "base_uri": "https://localhost:8080/",
          "height": 285
        },
        "outputId": "f187ac85-7b91-4f37-9637-3a7e089b5977"
      },
      "outputs": [
        {
          "output_type": "display_data",
          "data": {
            "text/plain": [
              "<Figure size 432x288 with 1 Axes>"
            ],
            "image/png": "[encoded data removed]"
          },
          "metadata": {}
        }
      ],
      "source": [
        "sns.set_theme(style=\"whitegrid\")\n",
        "tips = sns.load_dataset(\"tips\")\n",
        "ax = sns.boxplot(x=df[\"valor_total\"])"
      ]
    },
    {
      "cell_type": "code",
      "execution_count": null,
      "metadata": {
        "id": "rNCUd0I9vAsw",
        "colab": {
          "base_uri": "https://localhost:8080/",
          "height": 389
        },
        "outputId": "2ebace6a-b1ea-42f1-873e-b5fe2a965c63"
      },
      "outputs": [
        {
          "output_type": "execute_result",
          "data": {
            "text/plain": [
              "<seaborn.axisgrid.PairGrid at 0x7ff44bcfa490>"
            ]
          },
          "metadata": {},
          "execution_count": 57
        },
        {
          "output_type": "display_data",
          "data": {
            "text/plain": [
              "<Figure size 360x360 with 2 Axes>"
            ],
            "image/png": "[encoded data removed]"
          },
          "metadata": {}
        }
      ],
      "source": [
        "sns.pairplot(df[[\"valor_total\"]], diag_kind=\"kde\",height=5)"
      ]
    },
    {
      "cell_type": "code",
      "source": [
        "from scipy.stats import normaltest"
      ],
      "metadata": {
        "id": "T7cyXk71XkK-"
      },
      "execution_count": null,
      "outputs": []
    },
    {
      "cell_type": "code",
      "source": [
        "normaltest(df_grafico['valor_total'])"
      ],
      "metadata": {
        "colab": {
          "base_uri": "https://localhost:8080/"
        },
        "id": "l6nXvn9iXvfi",
        "outputId": "947a38f1-5e6d-4714-e060-72c29a351cad"
      },
      "execution_count": null,
      "outputs": [
        {
          "output_type": "execute_result",
          "data": {
            "text/plain": [
              "NormaltestResult(statistic=206324.4986078155, pvalue=0.0)"
            ]
          },
          "metadata": {},
          "execution_count": 59
        }
      ]
    },
    {
      "cell_type": "code",
      "source": [
        "stat_test, p_valor = normaltest(df_grafico['valor_total'])\n",
        "print(stat_test)\n",
        "print(p_valor)"
      ],
      "metadata": {
        "colab": {
          "base_uri": "https://localhost:8080/"
        },
        "id": "G_SZder4Xvoy",
        "outputId": "6deda588-e058-445d-e9eb-9d2a804d12b6"
      },
      "execution_count": null,
      "outputs": [
        {
          "output_type": "stream",
          "name": "stdout",
          "text": [
            "206324.4986078155\n",
            "0.0\n"
          ]
        }
      ]
    },
    {
      "cell_type": "code",
      "source": [
        "significancia = 0.05\n",
        "print('Rejeitamos H0') if p_valor <= significancia else print('Não rejeitamos H0')"
      ],
      "metadata": {
        "colab": {
          "base_uri": "https://localhost:8080/"
        },
        "id": "boO-Oe_1Xvyr",
        "outputId": "93145aa3-08ad-4ad8-84ea-bd88baf932a1"
      },
      "execution_count": null,
      "outputs": [
        {
          "output_type": "stream",
          "name": "stdout",
          "text": [
            "Rejeitamos H0\n"
          ]
        }
      ]
    },
    {
      "cell_type": "code",
      "execution_count": null,
      "metadata": {
        "colab": {
          "base_uri": "https://localhost:8080/",
          "height": 382
        },
        "id": "674WCoAtO0ib",
        "outputId": "3c52faab-7307-43fd-ddba-0775374b1015"
      },
      "outputs": [
        {
          "output_type": "execute_result",
          "data": {
            "text/plain": [
              "<seaborn.axisgrid.FacetGrid at 0x7ff44bd94610>"
            ]
          },
          "metadata": {},
          "execution_count": 70
        },
        {
          "output_type": "display_data",
          "data": {
            "text/plain": [
              "<Figure size 1440x360 with 4 Axes>"
            ],
            "image/png": "[encoded data removed]"
          },
          "metadata": {}
        }
      ],
      "source": [
        "sns.set_palette('colorblind')\n",
        "sns.relplot(x='valor_total',col='grau_instrucao',y='valor_predicao_liquido',data=df)"
      ]
    },
    {
      "cell_type": "code",
      "execution_count": null,
      "metadata": {
        "colab": {
          "base_uri": "https://localhost:8080/",
          "height": 382
        },
        "id": "6QVEyXq_Jg_v",
        "outputId": "1db6b329-39f9-47ae-ceed-bdd6863ec231"
      },
      "outputs": [
        {
          "output_type": "execute_result",
          "data": {
            "text/plain": [
              "<seaborn.axisgrid.FacetGrid at 0x7ff44ba01110>"
            ]
          },
          "metadata": {},
          "execution_count": 71
        },
        {
          "output_type": "display_data",
          "data": {
            "text/plain": [
              "<Figure size 720x360 with 2 Axes>"
            ],
            "image/png": "[encoded data removed]"
          },
          "metadata": {}
        }
      ],
      "source": [
        "\n",
        "sns.relplot(x='valor_total',col='pf_ou_pj',y='valor_predicao_liquido',data=df)"
      ]
    },
    {
      "cell_type": "code",
      "execution_count": null,
      "metadata": {
        "colab": {
          "base_uri": "https://localhost:8080/",
          "height": 168
        },
        "id": "dGdsfW9gJjJI",
        "outputId": "84f786bf-7979-4f8f-99c7-65b1aa81d2c5"
      },
      "outputs": [
        {
          "data": {
            "text/plain": [
              "<seaborn.axisgrid.FacetGrid at 0x7ff068b2fc10>"
            ]
          },
          "execution_count": 61,
          "metadata": {},
          "output_type": "execute_result"
        },
        {
          "data": {
            "image/png": "[encoded data removed]",
            "text/plain": [
              "<Figure size 3240x360 with 9 Axes>"
            ]
          },
          "metadata": {},
          "output_type": "display_data"
        }
      ],
      "source": [
        "\n",
        "sns.relplot(x='valor_total',col='estado_civil',y='valor_predicao_liquido',data=df)"
      ]
    },
    {
      "cell_type": "code",
      "execution_count": null,
      "metadata": {
        "colab": {
          "base_uri": "https://localhost:8080/",
          "height": 389
        },
        "id": "Jko9fPzDNun0",
        "outputId": "23a5623e-0a82-40d1-ebd9-3781d362ba3d"
      },
      "outputs": [
        {
          "data": {
            "text/plain": [
              "<seaborn.axisgrid.PairGrid at 0x7ff068791850>"
            ]
          },
          "execution_count": 62,
          "metadata": {},
          "output_type": "execute_result"
        },
        {
          "data": {
            "image/png": "[encoded data removed]",
            "text/plain": [
              "<Figure size 360x360 with 2 Axes>"
            ]
          },
          "metadata": {},
          "output_type": "display_data"
        }
      ],
      "source": [
        "sns.pairplot(df_grafico[[\"valor_total\"]], diag_kind=\"kde\",height=5)"
      ]
    },
    {
      "cell_type": "code",
      "execution_count": null,
      "metadata": {
        "colab": {
          "base_uri": "https://localhost:8080/",
          "height": 285
        },
        "id": "mqbYS9HpzF5o",
        "outputId": "f0d8c217-b0ef-42d2-9879-e6f4b005aac1"
      },
      "outputs": [
        {
          "output_type": "display_data",
          "data": {
            "text/plain": [
              "<Figure size 432x288 with 1 Axes>"
            ],
            "image/png": "[encoded data removed]"
          },
          "metadata": {}
        }
      ],
      "source": [
        "sns.set_theme(style=\"whitegrid\")\n",
        "tips = sns.load_dataset(\"tips\")\n",
        "ax = sns.boxplot(x=df_grafico[\"valor_total\"])"
      ]
    },
    {
      "cell_type": "code",
      "execution_count": null,
      "metadata": {
        "id": "8Suu8pDUdavF"
      },
      "outputs": [],
      "source": [
        "df_com_valor=df_grafico[df_grafico['valor_predicao_liquido']>0]"
      ]
    },
    {
      "cell_type": "code",
      "execution_count": null,
      "metadata": {
        "colab": {
          "base_uri": "https://localhost:8080/",
          "height": 285
        },
        "id": "a029BjW8dhYI",
        "outputId": "ddcfb2e3-d1fe-4af7-ec69-0030c0fff0e8"
      },
      "outputs": [
        {
          "output_type": "display_data",
          "data": {
            "text/plain": [
              "<Figure size 432x288 with 1 Axes>"
            ],
            "image/png": "[encoded data removed]"
          },
          "metadata": {}
        }
      ],
      "source": [
        "sns.set_theme(style=\"whitegrid\")\n",
        "tips = sns.load_dataset(\"tips\")\n",
        "ax = sns.boxplot(x=df_com_valor[\"valor_predicao_liquido\"][df_com_valor['pf_ou_pj']==1][df_com_valor['valor_predicao_liquido']<3900])"
      ]
    },
    {
      "cell_type": "code",
      "execution_count": null,
      "metadata": {
        "colab": {
          "base_uri": "https://localhost:8080/"
        },
        "id": "qIjPYVxSdxny",
        "outputId": "3520c92a-6431-4506-ec89-72b59b5adf17"
      },
      "outputs": [
        {
          "data": {
            "text/plain": [
              "count      2190.000000\n",
              "mean      19076.818895\n",
              "std       55171.988925\n",
              "min           0.220000\n",
              "25%        1858.282500\n",
              "50%        6140.505000\n",
              "75%       16876.967500\n",
              "max      826163.190000\n",
              "Name: valor_predicao_liquido, dtype: float64"
            ]
          },
          "execution_count": 85,
          "metadata": {},
          "output_type": "execute_result"
        }
      ],
      "source": [
        "df_com_valor[\"valor_predicao_liquido\"][df_com_valor['pf_ou_pj']==1].describe()"
      ]
    },
    {
      "cell_type": "code",
      "execution_count": null,
      "metadata": {
        "colab": {
          "base_uri": "https://localhost:8080/"
        },
        "id": "CK8n1PQdjLQV",
        "outputId": "e704c678-e06d-4610-e665-17d7b9fabad8"
      },
      "outputs": [
        {
          "name": "stderr",
          "output_type": "stream",
          "text": [
            "/usr/local/lib/python3.7/dist-packages/ipykernel_launcher.py:1: UserWarning: Boolean Series key will be reindexed to match DataFrame index.\n",
            "  \"\"\"Entry point for launching an IPython kernel.\n"
          ]
        }
      ],
      "source": [
        "df_com_valor2=df_com_valor[df_com_valor['pf_ou_pj']==0][df_com_valor['valor_predicao_liquido']<4000]"
      ]
    },
    {
      "cell_type": "code",
      "execution_count": null,
      "metadata": {
        "colab": {
          "base_uri": "https://localhost:8080/",
          "height": 389
        },
        "id": "dzefuBy2eIXL",
        "outputId": "db344891-6beb-47c4-c8f5-4f478aaf1f0e"
      },
      "outputs": [
        {
          "data": {
            "text/plain": [
              "<seaborn.axisgrid.PairGrid at 0x7ff062717fd0>"
            ]
          },
          "execution_count": 96,
          "metadata": {},
          "output_type": "execute_result"
        },
        {
          "data": {
            "image/png": "[encoded data removed]",
            "text/plain": [
              "<Figure size 360x360 with 2 Axes>"
            ]
          },
          "metadata": {},
          "output_type": "display_data"
        }
      ],
      "source": [
        "sns.pairplot(df_com_valor2[[\"valor_predicao_liquido\"]], diag_kind=\"kde\",height=5)"
      ]
    },
    {
      "cell_type": "code",
      "execution_count": null,
      "metadata": {
        "id": "la4-dMEYv_dS"
      },
      "outputs": [],
      "source": []
    }
  ],
  "metadata": {
    "colab": {
      "collapsed_sections": [],
      "provenance": []
    },
    "kernelspec": {
      "display_name": "Python 3",
      "name": "python3"
    },
    "language_info": {
      "name": "python"
    }
  },
  "nbformat": 4,
  "nbformat_minor": 0
}